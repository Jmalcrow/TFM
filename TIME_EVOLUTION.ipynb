{
 "cells": [
  {
   "cell_type": "code",
   "execution_count": 32,
   "metadata": {},
   "outputs": [],
   "source": [
    "import numpy as np\n",
    "from scipy.sparse.linalg import eigsh\n",
    "import scipy.sparse as sparse\n",
    "from scipy.linalg import eigh\n",
    "import scipy.linalg\n",
    "import matplotlib.pyplot as plt\n",
    "from qutip import *\n",
    "import math"
   ]
  },
  {
   "cell_type": "code",
   "execution_count": 33,
   "metadata": {},
   "outputs": [],
   "source": [
    "#plt.rcParams['figure.figsize']=8.5,5.1\n",
    "plt.rcParams['font.size']=20\n",
    "plt.rcParams['lines.linewidth']=1.5\n",
    "plt.rcParams['text.usetex']=True"
   ]
  },
  {
   "cell_type": "code",
   "execution_count": 34,
   "metadata": {},
   "outputs": [],
   "source": [
    "#Construction of necessary elements of theta and phi Hilbert spaces\n",
    "\n",
    "# For phi\n",
    "\n",
    "N=50\n",
    "a_phi=np.diag(np.sqrt(np.arange(1, N+1)), 1)\n",
    "ad_phi=np.diag(np.sqrt(np.arange(1, N+1)), -1)\n",
    "N_phi=ad_phi@a_phi\n",
    "Id_N=np.eye(N+1)\n",
    "\n",
    "# For theta\n",
    "\n",
    "M=20\n",
    "Id_M=np.eye(2*M+1)\n",
    "n_theta=np.flipud(np.fliplr(np.diag(np.arange(-M,M+1), 0)))\n",
    "\n",
    "#Values of equilibrium\n",
    "\n",
    "phi_ext_val=np.pi\n",
    "ng_val=0.5\n",
    "\n",
    "#Qubit parameters 1 \n",
    "\n",
    "E_Cs=1.0\n",
    "E_Cj=1.0\n",
    "E_L=1.0\n",
    "E_J=1.0\n",
    "alpha=(1j*(E_Cj/E_L)**(1.0/4.0))\n",
    "\n",
    "# Qubit parameters 2\n",
    "\n",
    "E_Cs_2=(1.0/20)\n",
    "E_Cj_2=1.0\n",
    "E_L_2=(1.0/16)\n",
    "E_J_2=(1.0/5.0)\n",
    "alpha2=(1j*(E_Cj_2/E_L_2)**(1.0/4.0))\n",
    "\n"
   ]
  },
  {
   "cell_type": "code",
   "execution_count": 42,
   "metadata": {},
   "outputs": [],
   "source": [
    "#1ST VALUES\n",
    "\n",
    "#ng1=np.arange(0.495,0.506,0.01)\n",
    "epsilon_n=0.005\n",
    "#print(ng1)\n",
    "#a=np.pi-(np.pi*0.01)\n",
    "#b=np.pi+(np.pi*0.01 + 0.001)\n",
    "#phi_ext1=np.arange(a,b,(0.01*np.pi)*2)\n",
    "epsilon_phi=(0.01*np.pi)\n",
    "#print(phi_ext1)\n",
    "\n",
    "#2ND VALUES\n",
    "\n",
    "#ng2=np.arange(0.495,0.506,0.01)\n",
    "#phi_ext2=np.arange(a,b,(0.01*np.pi)*2)\n",
    "\n",
    "T=0.083\n",
    "N=100\n",
    "Delta_t=T/N\n",
    "time_array=np.linspace(Delta_t,T,N)"
   ]
  },
  {
   "cell_type": "code",
   "execution_count": 36,
   "metadata": {},
   "outputs": [],
   "source": [
    "# Construction of the 0-pi Hamiltonian\n",
    "\n",
    "def timedep_Hamiltonian_0pi(EJ,ECS,ECJ,EL,n,phi,alph,time):\n",
    "    #Initial\n",
    "    H=np.zeros(((2*M+1)*(N+1),(2*M+1)*(N+1)))\n",
    "    #Free Hamiltonian construction\n",
    "    omega=np.pi/T\n",
    "    n_t=n-epsilon_n*np.cos(omega*time)\n",
    "    H1=4*ECS*((n_theta-n_t*Id_M)@(n_theta-n_t*Id_M))\n",
    "    H_theta=np.kron(H1,Id_N)\n",
    "    H2=2*np.sqrt(ECJ*EL)*(N_phi+0.5*Id_N)\n",
    "    H_phi=np.kron(Id_M,H2)\n",
    "    H_0=H_theta+H_phi\n",
    "    #H_0=np.zeros(((2*M+1)*(N+1),(2*M+1)*(N+1)))\n",
    "    #Interaction Hamiltonian construction\n",
    "    cos_theta_ext=np.diag(np.ones(2*M),1)+np.diag(np.ones(2*M),-1) \n",
    "    #cos_theta=np.diag(np.ones(2*M-1),2)+np.diag(np.ones(2*M-1),-2)\n",
    "    cos_theta_ext[0][2*M]+=1\n",
    "    cos_theta_ext[2*M][0]+=1\n",
    "    phi_ext_t=phi-epsilon_phi*np.sin(omega*time)\n",
    "    #cos_phi=(0.5*((displace(N+1,alph)*(math.e**(-1j*phi/2)))+(displace(N+1,-alph)*(math.e**(1j*phi/2)))))*np.diag(np.ones(N+1),0)\n",
    "    cos_phi=0.5*(scipy.linalg.expm(alph*(a_phi+ad_phi)-(Id_N*1j*phi_ext_t/2))+scipy.linalg.expm(-alph*(a_phi+ad_phi)+(Id_N*1j*phi_ext_t/2)))\n",
    "    H_I=EJ*np.kron(cos_theta_ext,cos_phi.real)#SIN EL2 \n",
    "    #H_I=np.zeros(((2*M+1)*(N+1),(2*M+1)*(N+1)))\n",
    "    #Total Hamiltonian\n",
    "    H+=H_0-H_I\n",
    "    return H"
   ]
  },
  {
   "cell_type": "code",
   "execution_count": 41,
   "metadata": {},
   "outputs": [],
   "source": [
    "def U_t(Hamiltonian,time):\n",
    "    return scipy.linalg.expm(-1j*Hamiltonian*time)"
   ]
  },
  {
   "cell_type": "code",
   "execution_count": 37,
   "metadata": {},
   "outputs": [],
   "source": [
    "EIGENVECTS_NG=np.load('EIGVECTS_NG.npy')\n",
    "EIGENVECTS_PHIEXT=np.load('EIGVECTS_PHIEXT.npy')\n",
    "EIGENVECTS2_NG=np.load('EIGVECTS2_NG.npy')\n",
    "EIGENVECTS2_PHIEXT=np.load('EIGVECTS2_PHIEXT.npy')\n",
    "#print(\"SET 1 FOR NG =>\",EIGENVECTS_NG)\n",
    "#print(\"SET 1 FOR PHI_EXT =>\",EIGENVECTS_PHIEXT)\n",
    "#print(\"SET 2 FOR NG =>\",EIGENVECTS2_NG)\n",
    "#print(\"SET 2 FOR PHI_EXT =>\",EIGENVECTS2_PHIEXT)"
   ]
  },
  {
   "cell_type": "code",
   "execution_count": null,
   "metadata": {},
   "outputs": [],
   "source": []
  }
 ],
 "metadata": {
  "kernelspec": {
   "display_name": "TFM",
   "language": "python",
   "name": "python3"
  },
  "language_info": {
   "codemirror_mode": {
    "name": "ipython",
    "version": 3
   },
   "file_extension": ".py",
   "mimetype": "text/x-python",
   "name": "python",
   "nbconvert_exporter": "python",
   "pygments_lexer": "ipython3",
   "version": "3.11.3"
  },
  "orig_nbformat": 4
 },
 "nbformat": 4,
 "nbformat_minor": 2
}
