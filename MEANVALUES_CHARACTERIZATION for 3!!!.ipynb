{
 "cells": [
  {
   "cell_type": "code",
   "execution_count": 85,
   "id": "1f5c9f2f",
   "metadata": {},
   "outputs": [],
   "source": [
    "import numpy as np\n",
    "from scipy.sparse.linalg import eigsh\n",
    "import scipy.sparse as sparse\n",
    "from scipy.linalg import eigh\n",
    "import scipy.linalg\n",
    "import matplotlib.pyplot as plt\n",
    "from qutip import *\n",
    "import math"
   ]
  },
  {
   "cell_type": "code",
   "execution_count": 86,
   "id": "d6efc705",
   "metadata": {},
   "outputs": [],
   "source": [
    "#plt.rcParams['figure.figsize']=8.5,5.1\n",
    "plt.rcParams['font.size']=20\n",
    "plt.rcParams['lines.linewidth']=1.5\n",
    "plt.rcParams['text.usetex']=True"
   ]
  },
  {
   "cell_type": "code",
   "execution_count": 87,
   "id": "b45a6a3f",
   "metadata": {},
   "outputs": [
    {
     "name": "stdout",
     "output_type": "stream",
     "text": [
      "PHI\n",
      "[[0.         1.         0.         ... 0.         0.         0.        ]\n",
      " [1.         0.         1.41421356 ... 0.         0.         0.        ]\n",
      " [0.         1.41421356 0.         ... 0.         0.         0.        ]\n",
      " ...\n",
      " [0.         0.         0.         ... 0.         7.         0.        ]\n",
      " [0.         0.         0.         ... 7.         0.         7.07106781]\n",
      " [0.         0.         0.         ... 0.         7.07106781 0.        ]]\n",
      "kron PHI\n",
      "[[0.         1.         0.         ... 0.         0.         0.        ]\n",
      " [1.         0.         1.41421356 ... 0.         0.         0.        ]\n",
      " [0.         1.41421356 0.         ... 0.         0.         0.        ]\n",
      " ...\n",
      " [0.         0.         0.         ... 0.         7.         0.        ]\n",
      " [0.         0.         0.         ... 7.         0.         7.07106781]\n",
      " [0.         0.         0.         ... 0.         7.07106781 0.        ]]\n",
      "[[0. 1. 0. ... 0. 0. 1.]\n",
      " [1. 0. 1. ... 0. 0. 0.]\n",
      " [0. 1. 0. ... 0. 0. 0.]\n",
      " ...\n",
      " [0. 0. 0. ... 0. 1. 0.]\n",
      " [0. 0. 0. ... 1. 0. 1.]\n",
      " [1. 0. 0. ... 0. 1. 0.]]\n",
      "COS\n",
      "kron COS\n",
      "[[0. 0. 0. ... 0. 0. 0.]\n",
      " [0. 0. 0. ... 0. 0. 0.]\n",
      " [0. 0. 0. ... 0. 0. 0.]\n",
      " ...\n",
      " [0. 0. 0. ... 0. 0. 0.]\n",
      " [0. 0. 0. ... 0. 0. 0.]\n",
      " [0. 0. 0. ... 0. 0. 0.]]\n",
      "[0.495 0.505]\n",
      "[3.11017673 3.17300858]\n"
     ]
    }
   ],
   "source": [
    "#Construction of necessary elements of theta and phi Hilbert spaces\n",
    "\n",
    "# For phi\n",
    "\n",
    "N=50\n",
    "a_phi=np.diag(np.sqrt(np.arange(1, N+1)), 1)\n",
    "ad_phi=np.diag(np.sqrt(np.arange(1, N+1)), -1)\n",
    "N_phi=ad_phi@a_phi\n",
    "Id_N=np.eye(N+1)\n",
    "\n",
    "# For theta\n",
    "\n",
    "M=20\n",
    "Id_M=np.eye(2*M+1)\n",
    "n_theta=np.flipud(np.fliplr(np.diag(np.arange(-M,M+1), 0)))\n",
    "\n",
    "#Values of equilibrium\n",
    "\n",
    "phi_ext_val=np.pi\n",
    "ng_val=0.5\n",
    "\n",
    "#Qubit parameters 1 \n",
    "\n",
    "E_Cs=1.0\n",
    "E_Cj=1.0\n",
    "E_L=1.0\n",
    "E_J=1.0\n",
    "alpha=(1j*(E_Cj/E_L)**(1.0/4.0))\n",
    "\n",
    "# Qubit parameters 2\n",
    "\n",
    "E_Cs_2=(1.0/20)\n",
    "E_Cj_2=1.0\n",
    "E_L_2=(1.0/16)\n",
    "E_J_2=(1.0/5.0)\n",
    "alpha2=(1j*(E_Cj_2/E_L_2)**(1.0/4.0))\n",
    "\n",
    "#FOR EXPECTATION VALUES\n",
    "\n",
    "#PHI\n",
    "print(\"PHI\")\n",
    "print((E_Cj/E_L)**(1.0/4.0)*(a_phi+ad_phi))\n",
    "phi=np.kron(Id_M,((E_Cj/E_L)**(1.0/4.0))*(a_phi+ad_phi))\n",
    "print(\"kron PHI\")\n",
    "print(phi)\n",
    "phi2=np.kron(Id_M,((E_Cj_2/E_L_2)**(1.0/4.0))*(a_phi+ad_phi))\n",
    "\n",
    "#COS_THETA\n",
    "costheta=np.diag(np.ones(2*M),1)+np.diag(np.ones(2*M),-1) \n",
    "costheta[0][2*M]+=1\n",
    "costheta[2*M][0]+=1\n",
    "print(costheta)\n",
    "print(\"COS\")\n",
    "cos_theta=np.kron(costheta,Id_N)\n",
    "print(\"kron COS\")\n",
    "print(cos_theta)\n",
    "\n",
    "#N_PHI\n",
    "N_phi_extended=np.kron(Id_M,N_phi)\n",
    "\n",
    "#N_theta\n",
    "n_theta_extended=np.kron(n_theta,Id_N)\n",
    "\n",
    "\n",
    "#FOR SAVING VALUES OF CALCULATIONS\n",
    "\n",
    "#1ST VALUES\n",
    "\n",
    "ng1=np.arange(0.495,0.506,0.01)\n",
    "print(ng1)\n",
    "a=np.pi-(np.pi*0.01)\n",
    "b=np.pi+(np.pi*0.01 + 0.001)\n",
    "phi_ext1=np.arange(a,b,(0.01*np.pi)*2)\n",
    "print(phi_ext1)\n",
    "Energies=[]\n",
    "Eigenvectors=[]\n",
    "\n",
    "Expvals_costheta_NG=[]\n",
    "Expvals_phi_NG=[]\n",
    "Expvals_N_phi_NG=[]\n",
    "Expvals_n_theta_NG=[]\n",
    "\n",
    "Expvals_costheta_PHIEXT=[]\n",
    "Expvals_phi_PHIEXT=[]\n",
    "Expvals_N_phi_PHIEXT=[]\n",
    "Expvals_n_theta_PHIEXT=[]\n",
    "\n",
    "#2ND VALUES\n",
    "\n",
    "ng2=np.arange(0.495,0.506,0.01)\n",
    "phi_ext2=np.arange(a,b,(0.01*np.pi)*2)\n",
    "Energies2=[]\n",
    "Eigenvectors2=[]\n",
    "\n",
    "Expvals2_costheta_NG=[]\n",
    "Expvals2_phi_NG=[]\n",
    "Expvals2_N_phi_NG=[]\n",
    "Expvals2_n_theta_NG=[]\n",
    "\n",
    "Expvals2_costheta_PHIEXT=[]\n",
    "Expvals2_phi_PHIEXT=[]\n",
    "Expvals2_N_phi_PHIEXT=[]\n",
    "Expvals2_n_theta_PHIEXT=[]\n"
   ]
  },
  {
   "cell_type": "code",
   "execution_count": 88,
   "id": "568910dd",
   "metadata": {},
   "outputs": [],
   "source": [
    "# Construction of the 0-pi Hamiltonian\n",
    "\n",
    "def Hamiltonian_0pi(EJ,ECS,ECJ,EL,n,phi,alph):\n",
    "    #Initial\n",
    "    H=np.zeros(((2*M+1)*(N+1),(2*M+1)*(N+1)))\n",
    "    #Free Hamiltonian construction\n",
    "    H1=4*ECS*((n_theta-n*Id_M)@(n_theta-n*Id_M))\n",
    "    H_theta=np.kron(H1,Id_N)\n",
    "    H2=2*np.sqrt(ECJ*EL)*(N_phi+0.5*Id_N)\n",
    "    H_phi=np.kron(Id_M,H2)\n",
    "    H_0=H_theta+H_phi\n",
    "    #H_0=np.zeros(((2*M+1)*(N+1),(2*M+1)*(N+1)))\n",
    "    #Interaction Hamiltonian construction\n",
    "    cos_theta_ext=np.diag(np.ones(2*M),1)+np.diag(np.ones(2*M),-1) \n",
    "    #cos_theta=np.diag(np.ones(2*M-1),2)+np.diag(np.ones(2*M-1),-2)\n",
    "    cos_theta_ext[0][2*M]+=1\n",
    "    cos_theta_ext[2*M][0]+=1\n",
    "    #cos_phi=(0.5*((displace(N+1,alph)*(math.e**(-1j*phi/2)))+(displace(N+1,-alph)*(math.e**(1j*phi/2)))))*np.diag(np.ones(N+1),0)\n",
    "    cos_phi=0.5*(scipy.linalg.expm(alph*(a_phi+ad_phi)-(Id_N*1j*phi/2))+scipy.linalg.expm(-alph*(a_phi+ad_phi)+(Id_N*1j*phi/2)))\n",
    "    H_I=EJ*np.kron(cos_theta_ext,cos_phi.real)#SIN EL2 \n",
    "    #H_I=np.zeros(((2*M+1)*(N+1),(2*M+1)*(N+1)))\n",
    "    #Total Hamiltonian\n",
    "    H+=H_0-H_I\n",
    "    return H"
   ]
  },
  {
   "cell_type": "code",
   "execution_count": 89,
   "id": "9ebb9d7c",
   "metadata": {},
   "outputs": [],
   "source": [
    "def calculate_expval(vect,operator):\n",
    "    return np.conj(vect)@operator@vect"
   ]
  },
  {
   "cell_type": "code",
   "execution_count": 90,
   "id": "6bb6c7db",
   "metadata": {},
   "outputs": [
    {
     "name": "stdout",
     "output_type": "stream",
     "text": [
      "[1, 1, 0]\n",
      "[[0, 1, 0], [1, 0, 1], [0, 1, 0]]\n",
      "2\n"
     ]
    }
   ],
   "source": [
    "Vprueba=[1,1,0]\n",
    "print(Vprueba)\n",
    "matrix=[[0,1,0],[1,0,1],[0,1,0]]\n",
    "print(matrix)\n",
    "a=calculate_expval(Vprueba,matrix)\n",
    "print(a)\n"
   ]
  },
  {
   "attachments": {},
   "cell_type": "markdown",
   "id": "1dba0b35",
   "metadata": {},
   "source": [
    "## $\\text{1. Plot for } E_{Cs} = E_{Cj} = E_L = 1$, $\\varphi_{ext}= \\pi$, $\\alpha = i \\left(\\frac{E_{CJ}}{E_L}\\right)^{1/4} = i$."
   ]
  },
  {
   "cell_type": "code",
   "execution_count": 91,
   "id": "f4ff39ee",
   "metadata": {},
   "outputs": [
    {
     "name": "stdout",
     "output_type": "stream",
     "text": [
      "Step for ng =  0.495\n",
      "Hamiltonian built, len(H)= 4372281\n",
      "The eigenvalues of the GS and the 1st excited state are  1.7550311282877298  and  1.7889259142999712\n",
      "The eigenvectors of the GS and the 1st excited state are  [-4.14498257e-20 -3.41551326e-18 -8.33063089e-19 ...  1.89275468e-17\n",
      " -4.28507952e-17  1.22153588e-16]  and  [-2.44749585e-18 -3.69522884e-18 -3.67861915e-18 ... -1.96009930e-18\n",
      "  9.93006070e-18  5.92851602e-19]\n",
      "Eigenvalues and eigenvectors calculated\n",
      "Step for ng =  0.505\n",
      "Hamiltonian built, len(H)= 4372281\n",
      "The eigenvalues of the GS and the 1st excited state are  1.7550311282880668  and  1.7889259142998575\n",
      "The eigenvectors of the GS and the 1st excited state are  [ 1.19913741e-18  1.64918824e-17  4.66654654e-18 ... -1.17712453e-17\n",
      "  4.19933908e-18  1.89224004e-17]  and  [-7.76414430e-18 -2.35130545e-17 -5.05318465e-18 ...  2.31947609e-17\n",
      " -9.44627477e-18  1.91357296e-16]\n",
      "Eigenvalues and eigenvectors calculated\n"
     ]
    }
   ],
   "source": [
    "# Calculations 1\n",
    "\n",
    "for n1 in ng1:\n",
    "    print(\"Step for ng = \",n1)\n",
    "    H1=Hamiltonian_0pi(E_J,E_Cs,E_Cj,E_L,n1,phi_ext_val,alpha)\n",
    "    print(\"Hamiltonian built, len(H)=\",len(H1)**2)\n",
    "    #vals,vects=np.linalg.eigh(H)\n",
    "    valsNG, vectsNG = eigsh(H1, k=2, which='SA')\n",
    "    #vals,_=np.linalg.eigh(H)\n",
    "    print(\"The eigenvalues of the GS and the 1st excited state are \",valsNG[0],\" and \",valsNG[1])\n",
    "    print(\"The eigenvectors of the GS and the 1st excited state are \",vectsNG[:,0],\" and \",vectsNG[:,1])\n",
    "    print(\"Eigenvalues and eigenvectors calculated\")\n",
    "    #Cos_theta\n",
    "    Expval_costheta_0=calculate_expval(vectsNG[:,0],cos_theta)\n",
    "    Expval_costheta_1=calculate_expval(vectsNG[:,1],cos_theta)\n",
    "    #Phi\n",
    "    Expval_phi_0=calculate_expval(vectsNG[:,0],phi)\n",
    "    Expval_phi_1=calculate_expval(vectsNG[:,1],phi)\n",
    "    #N_phi\n",
    "    Expval_N_phi_0=calculate_expval(vectsNG[:,0],N_phi_extended)\n",
    "    Expval_N_phi_1=calculate_expval(vectsNG[:,1],N_phi_extended)\n",
    "    #n_theta\n",
    "    Expval_n_theta_0=calculate_expval(vectsNG[:,0],n_theta_extended)\n",
    "    Expval_n_theta_1=calculate_expval(vectsNG[:,1],n_theta_extended)\n",
    "    #TOTALS\n",
    "    Expvals_costheta_NG.extend([Expval_costheta_0,Expval_costheta_1])\n",
    "    Expvals_phi_NG.extend([Expval_phi_0,Expval_phi_1])\n",
    "    Expvals_N_phi_NG.extend([Expval_N_phi_0,Expval_N_phi_1])\n",
    "    Expvals_n_theta_NG.extend([Expval_n_theta_0,Expval_n_theta_1])"
   ]
  },
  {
   "cell_type": "code",
   "execution_count": 92,
   "id": "714957e4",
   "metadata": {},
   "outputs": [
    {
     "name": "stdout",
     "output_type": "stream",
     "text": [
      "Step for phi_ext =  3.1101767270538954\n",
      "Hamiltonian built, len(H)= 4372281\n",
      "The eigenvalues of the GS and the 1st excited state are  1.763178252558451  and  1.780734611521542\n",
      "The eigenvectors of the GS and the 1st excited state are  [-1.08844621e-19  1.54787136e-18 -1.64679942e-19 ... -1.63684562e-17\n",
      "  4.64168838e-17  7.57031329e-19]  and  [ 7.05707904e-20 -9.48357010e-19  1.12858916e-19 ... -2.73480639e-17\n",
      "  2.77321456e-17  8.23536953e-18]\n",
      "Eigenvalues and eigenvectors calculated\n",
      "Step for phi_ext =  3.1730085801256913\n",
      "Hamiltonian built, len(H)= 4372281\n",
      "The eigenvalues of the GS and the 1st excited state are  1.7631782525583561  and  1.7807346115216844\n",
      "The eigenvectors of the GS and the 1st excited state are  [ 3.59954053e-18 -3.43293928e-18  2.35858138e-18 ... -1.07753388e-17\n",
      "  9.81883868e-17 -6.06551783e-17]  and  [-5.04719947e-18 -4.61087695e-18  4.81704514e-19 ... -5.81709638e-22\n",
      "  2.83826992e-17 -3.93922305e-16]\n",
      "Eigenvalues and eigenvectors calculated\n"
     ]
    }
   ],
   "source": [
    "# Calculations 1\n",
    "\n",
    "for phi1 in phi_ext1:\n",
    "    print(\"Step for phi_ext = \",phi1)\n",
    "    H2=Hamiltonian_0pi(E_J,E_Cs,E_Cj,E_L,ng_val,phi1,alpha)\n",
    "    print(\"Hamiltonian built, len(H)=\",len(H2)**2)\n",
    "    #vals,vects=np.linalg.eigh(H)\n",
    "    valsPHI, vectsPHI = eigsh(H2, k=2, which='SA')\n",
    "    #vals,_=np.linalg.eigh(H)\n",
    "    print(\"The eigenvalues of the GS and the 1st excited state are \",valsPHI[0],\" and \",valsPHI[1])\n",
    "    print(\"The eigenvectors of the GS and the 1st excited state are \",vectsPHI[:,0],\" and \",vectsPHI[:,1])\n",
    "    print(\"Eigenvalues and eigenvectors calculated\")\n",
    "    #Cos_theta\n",
    "    Expval_costheta_0=calculate_expval(vectsPHI[:,0],cos_theta)\n",
    "    Expval_costheta_1=calculate_expval(vectsPHI[:,1],cos_theta)\n",
    "    #Phi\n",
    "    Expval_phi_0=calculate_expval(vectsPHI[:,0],phi)\n",
    "    Expval_phi_1=calculate_expval(vectsPHI[:,1],phi)\n",
    "    #N_phi\n",
    "    Expval_N_phi_0=calculate_expval(vectsPHI[:,0],N_phi_extended)\n",
    "    Expval_N_phi_1=calculate_expval(vectsPHI[:,1],N_phi_extended)\n",
    "    #n_theta\n",
    "    Expval_n_theta_0=calculate_expval(vectsPHI[:,0],n_theta_extended)\n",
    "    Expval_n_theta_1=calculate_expval(vectsPHI[:,1],n_theta_extended)\n",
    "    #TOTALS\n",
    "    Expvals_costheta_PHIEXT.extend([Expval_costheta_0,Expval_costheta_1])\n",
    "    Expvals_phi_PHIEXT.extend([Expval_phi_0,Expval_phi_1])\n",
    "    Expvals_N_phi_PHIEXT.extend([Expval_N_phi_0,Expval_N_phi_1])\n",
    "    Expvals_n_theta_PHIEXT.extend([Expval_n_theta_0,Expval_n_theta_1])"
   ]
  },
  {
   "attachments": {},
   "cell_type": "markdown",
   "id": "2b0d1706",
   "metadata": {},
   "source": [
    "EXPECTATION VALUES FOR THE FIRST SET OF VALUES FOR THE ENERGIES"
   ]
  },
  {
   "cell_type": "code",
   "execution_count": 93,
   "id": "909d7ea3",
   "metadata": {},
   "outputs": [
    {
     "name": "stdout",
     "output_type": "stream",
     "text": [
      "VARYING NG\n",
      "Exp values of cos_theta varying ng are  [-3.022762294187597e-12, 2.995261890430263e-12, 2.1011030435333068e-14, -4.516097020057019e-14]\n",
      "Exp values of phi varying ng are  [-1.5244051813152849e-12, 1.5656016035503275e-12, 4.903616971207764e-14, -1.5507449233682572e-13]\n",
      "Exp values of N_phi varying ng are  [0.08693140982192102, 0.09220055517257782, 0.08693140982189938, 0.09220055517264435]\n",
      "Exp values of n_theta varying ng are  [0.07369822649554705, 0.9209886856432679, 0.9263017735044603, 0.07901131435678296]\n",
      "VARYING PHI_EXT\n",
      "Exp values of cos_theta varying phi_ext are  [1.073889114310878, -1.0705380216291664, -1.073889114310878, 1.070538021629191]\n",
      "Exp values of phi varying phi_ext are  [0.5556498947237778, -0.5619624882127534, -0.5556498947238153, 0.5619624882128837]\n",
      "Exp values of N_phi varying phi_ext are  [0.08873497723141124, 0.09026030865726747, 0.08873497723142484, 0.09026030865730672]\n",
      "Exp values of n_theta varying phi_ext are  [0.5000000000016271, 0.4999999999983597, 0.4999999999997899, 0.5000000000001963]\n"
     ]
    }
   ],
   "source": [
    "#VARYING NG\n",
    "print(\"VARYING NG\")\n",
    "print(\"Exp values of cos_theta varying ng are \",Expvals_costheta_NG)\n",
    "print(\"Exp values of phi varying ng are \",Expvals_phi_NG)\n",
    "print(\"Exp values of N_phi varying ng are \",Expvals_N_phi_NG)\n",
    "print(\"Exp values of n_theta varying ng are \",Expvals_n_theta_NG)\n",
    "#VARYING PHI_EXT\n",
    "print(\"VARYING PHI_EXT\")\n",
    "print(\"Exp values of cos_theta varying phi_ext are \",Expvals_costheta_PHIEXT)\n",
    "print(\"Exp values of phi varying phi_ext are \",Expvals_phi_PHIEXT)\n",
    "print(\"Exp values of N_phi varying phi_ext are \",Expvals_N_phi_PHIEXT)\n",
    "print(\"Exp values of n_theta varying phi_ext are \",Expvals_n_theta_PHIEXT)"
   ]
  },
  {
   "attachments": {},
   "cell_type": "markdown",
   "id": "55604da9",
   "metadata": {},
   "source": [
    "## $\\text{2. Plot for } E_{Cs} = \\frac{1}{20}$, $E_{CJ} = 1$, $E_L = \\frac{1}{16}$, $\\varphi_{ext} = \\pi$, $\\alpha = i \\left(\\frac{E_{CJ}}{E_L}\\right)^{1/4} = 2i$."
   ]
  },
  {
   "cell_type": "code",
   "execution_count": 94,
   "id": "5c0758ca",
   "metadata": {},
   "outputs": [
    {
     "name": "stdout",
     "output_type": "stream",
     "text": [
      "Step for ng =  0.495\n",
      "Hamiltonian built, len(H)= 4372281\n",
      "The eigenvalues of the GS and the 1st excited state are  0.2741644560315928  and  0.2761153906221432\n",
      "The eigenvectors of the GS and the 1st excited state are  [-6.92902441e-18  1.88326070e-17 -1.85374012e-17 ...  3.68686650e-18\n",
      "  3.69014036e-17 -8.55920167e-17]  and  [ 3.43614051e-18 -1.32368210e-17  1.38621949e-17 ... -3.11773268e-17\n",
      " -1.77707548e-17 -1.09689820e-16]\n",
      "Eigenvalues and eigenvectors calculated\n",
      "Step for ng =  0.505\n",
      "Hamiltonian built, len(H)= 4372281\n",
      "The eigenvalues of the GS and the 1st excited state are  0.27416445603159395  and  0.27611539062214396\n",
      "The eigenvectors of the GS and the 1st excited state are  [-1.06700893e-17  4.75085097e-18 -1.73262499e-18 ...  3.33823202e-18\n",
      " -1.23727193e-16  5.05092928e-17]  and  [ 7.20227417e-18 -2.86979707e-19  1.95979571e-18 ...  1.10789004e-16\n",
      "  8.95549602e-17  6.33677297e-17]\n",
      "Eigenvalues and eigenvectors calculated\n"
     ]
    }
   ],
   "source": [
    "# Calculations 2\n",
    "\n",
    "for n2 in ng2:\n",
    "    print(\"Step for ng = \",n2)\n",
    "    H3=Hamiltonian_0pi(E_J_2,E_Cs_2,E_Cj_2,E_L_2,n2,phi_ext_val,alpha2)\n",
    "    print(\"Hamiltonian built, len(H)=\",len(H3)**2)\n",
    "    #vals2,vects2=np.linalg.eigh(H2)\n",
    "    vals2NG, vects2NG = eigsh(H3, k=2, which='SA')\n",
    "    #vals2,_=np.linalg.eigh(H3)\n",
    "    print(\"The eigenvalues of the GS and the 1st excited state are \",vals2NG[0],\" and \",vals2NG[1])\n",
    "    print(\"The eigenvectors of the GS and the 1st excited state are \",vects2NG[:,0],\" and \",vects2NG[:,1])\n",
    "    print(\"Eigenvalues and eigenvectors calculated\")\n",
    "    #Cos_theta\n",
    "    Expval2_costheta_0=calculate_expval(vects2NG[:,0],cos_theta)\n",
    "    Expval2_costheta_1=calculate_expval(vects2NG[:,1],cos_theta)\n",
    "    #Phi\n",
    "    Expval2_phi_0=calculate_expval(vects2NG[:,0],phi)\n",
    "    Expval2_phi_1=calculate_expval(vects2NG[:,1],phi)\n",
    "    #N_phi\n",
    "    Expval2_N_phi_0=calculate_expval(vects2NG[:,0],N_phi_extended)\n",
    "    Expval2_N_phi_1=calculate_expval(vects2NG[:,1],N_phi_extended)\n",
    "    #n_theta\n",
    "    Expval2_n_theta_0=calculate_expval(vects2NG[:,0],n_theta_extended)\n",
    "    Expval2_n_theta_1=calculate_expval(vects2NG[:,1],n_theta_extended)\n",
    "    #TOTALS\n",
    "    Expvals2_costheta_NG.extend([Expval2_costheta_0,Expval2_costheta_1])\n",
    "    Expvals2_phi_NG.extend([Expval2_phi_0,Expval2_phi_1])\n",
    "    Expvals2_N_phi_NG.extend([Expval2_N_phi_0,Expval2_N_phi_1])\n",
    "    Expvals2_n_theta_NG.extend([Expval2_n_theta_0,Expval2_n_theta_1])"
   ]
  },
  {
   "cell_type": "code",
   "execution_count": 95,
   "id": "3f1f63a1",
   "metadata": {},
   "outputs": [
    {
     "name": "stdout",
     "output_type": "stream",
     "text": [
      "Step for phi_ext =  3.1101767270538954\n",
      "Hamiltonian built, len(H)= 4372281\n",
      "The eigenvalues of the GS and the 1st excited state are  0.2747073723247168  and  0.2755640770043978\n",
      "The eigenvectors of the GS and the 1st excited state are  [-9.99319226e-19  2.34669711e-18 -1.66936141e-18 ... -2.83304521e-17\n",
      " -4.30085209e-17 -4.99381717e-17]  and  [ 3.02005905e-18 -1.01765683e-18  1.77513558e-18 ...  1.62860191e-16\n",
      "  3.10005902e-17  1.11494158e-16]\n",
      "Eigenvalues and eigenvectors calculated\n",
      "Step for phi_ext =  3.1730085801256913\n",
      "Hamiltonian built, len(H)= 4372281\n",
      "The eigenvalues of the GS and the 1st excited state are  0.2747073723247447  and  0.2755640770044036\n",
      "The eigenvectors of the GS and the 1st excited state are  [ 5.20030405e-19 -2.48708295e-18  4.54178432e-19 ...  6.50080089e-17\n",
      " -1.60474585e-17 -1.18277229e-16]  and  [-2.36815807e-18  2.69425347e-18 -6.72976193e-19 ...  8.54622653e-17\n",
      " -3.60937410e-17 -5.52662732e-17]\n",
      "Eigenvalues and eigenvectors calculated\n"
     ]
    }
   ],
   "source": [
    "# Calculations 2\n",
    "\n",
    "for phi2 in phi_ext2:\n",
    "    print(\"Step for phi_ext = \",phi2)\n",
    "    H4=Hamiltonian_0pi(E_J_2,E_Cs_2,E_Cj_2,E_L_2,ng_val,phi2,alpha2)\n",
    "    print(\"Hamiltonian built, len(H)=\",len(H4)**2)\n",
    "    #vals,vects=np.linalg.eigh(H)\n",
    "    vals2PHI, vects2PHI = eigsh(H4, k=2, which='SA')\n",
    "    #vals,_=np.linalg.eigh(H)\n",
    "    print(\"The eigenvalues of the GS and the 1st excited state are \",vals2PHI[0],\" and \",vals2PHI[1])\n",
    "    print(\"The eigenvectors of the GS and the 1st excited state are \",vects2PHI[:,0],\" and \",vects2PHI[:,1])\n",
    "    print(\"Eigenvalues and eigenvectors calculated\")\n",
    "    #Cos_theta\n",
    "    Expval2_costheta_0=calculate_expval(vects2PHI[:,0],cos_theta)\n",
    "    Expval2_costheta_1=calculate_expval(vects2PHI[:,1],cos_theta)\n",
    "    #Phi\n",
    "    Expval2_phi_0=calculate_expval(vects2PHI[:,0],phi)\n",
    "    Expval2_phi_1=calculate_expval(vects2PHI[:,1],phi)\n",
    "    #N_phi\n",
    "    Expval2_N_phi_0=calculate_expval(vects2PHI[:,0],N_phi_extended)\n",
    "    Expval2_N_phi_1=calculate_expval(vects2PHI[:,1],N_phi_extended)\n",
    "    #n_theta\n",
    "    Expval2_n_theta_0=calculate_expval(vects2PHI[:,0],n_theta_extended)\n",
    "    Expval2_n_theta_1=calculate_expval(vects2PHI[:,1],n_theta_extended)\n",
    "    #TOTALS\n",
    "    Expvals2_costheta_PHIEXT.extend([Expval2_costheta_0,Expval2_costheta_1])\n",
    "    Expvals2_phi_PHIEXT.extend([Expval2_phi_0,Expval2_phi_1])\n",
    "    Expvals2_N_phi_PHIEXT.extend([Expval2_N_phi_0,Expval2_N_phi_1])\n",
    "    Expvals2_n_theta_PHIEXT.extend([Expval2_n_theta_0,Expval2_n_theta_1])"
   ]
  },
  {
   "attachments": {},
   "cell_type": "markdown",
   "id": "0ea88f4e",
   "metadata": {},
   "source": [
    "EXPECTATION VALUES FOR THE SECOND SET OF VALUES FOR THE ENERGIES"
   ]
  },
  {
   "cell_type": "code",
   "execution_count": 96,
   "id": "566a9f6b",
   "metadata": {},
   "outputs": [
    {
     "name": "stdout",
     "output_type": "stream",
     "text": [
      "VARYING NG\n",
      "Exp values of cos_theta varying ng are  [5.5550969235639966e-12, -5.566457381909192e-12, -1.8153545459288534e-11, 1.8161866588705553e-11]\n",
      "Exp values of phi varying ng are  [1.136731977160889e-12, -1.1263252923123557e-12, -3.679534476868094e-12, 3.669889311033292e-12]\n",
      "Exp values of N_phi varying ng are  [0.04402386741254535, 0.04424840052522372, 0.044023867412543514, 0.04424840052522558]\n",
      "Exp values of n_theta varying ng are  [0.012071718350906722, 0.9875368300487353, 0.9879282816490964, 0.012463169951258039]\n",
      "VARYING PHI_EXT\n",
      "Exp values of cos_theta varying phi_ext are  [1.0837543531326792, -1.0800974073986538, -1.0837543531326774, 1.080097407398644]\n",
      "Exp values of phi varying phi_ext are  [0.21752466351104865, -0.2187583312805243, -0.21752466351105046, 0.21875833128055494]\n",
      "Exp values of N_phi varying phi_ext are  [0.04409616925676729, 0.04417101278913825, 0.04409616925676781, 0.0441710127891413]\n",
      "Exp values of n_theta varying phi_ext are  [0.4999999999819598, 0.5000000000180314, 0.5000000000132822, 0.4999999999867178]\n"
     ]
    }
   ],
   "source": [
    "#VARYING NG\n",
    "print(\"VARYING NG\")\n",
    "print(\"Exp values of cos_theta varying ng are \",Expvals2_costheta_NG)\n",
    "print(\"Exp values of phi varying ng are \",Expvals2_phi_NG)\n",
    "print(\"Exp values of N_phi varying ng are \",Expvals2_N_phi_NG)\n",
    "print(\"Exp values of n_theta varying ng are \",Expvals2_n_theta_NG)\n",
    "#VARYING PHI_EXT\n",
    "print(\"VARYING PHI_EXT\")\n",
    "print(\"Exp values of cos_theta varying phi_ext are \",Expvals2_costheta_PHIEXT)\n",
    "print(\"Exp values of phi varying phi_ext are \",Expvals2_phi_PHIEXT)\n",
    "print(\"Exp values of N_phi varying phi_ext are \",Expvals2_N_phi_PHIEXT)\n",
    "print(\"Exp values of n_theta varying phi_ext are \",Expvals2_n_theta_PHIEXT)"
   ]
  }
 ],
 "metadata": {
  "kernelspec": {
   "display_name": "Python 3 (ipykernel)",
   "language": "python",
   "name": "python3"
  },
  "language_info": {
   "codemirror_mode": {
    "name": "ipython",
    "version": 3
   },
   "file_extension": ".py",
   "mimetype": "text/x-python",
   "name": "python",
   "nbconvert_exporter": "python",
   "pygments_lexer": "ipython3",
   "version": "3.11.3"
  }
 },
 "nbformat": 4,
 "nbformat_minor": 5
}
