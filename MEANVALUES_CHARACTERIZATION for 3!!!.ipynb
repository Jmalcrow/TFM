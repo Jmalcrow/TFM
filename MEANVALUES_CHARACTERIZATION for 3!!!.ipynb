{
 "cells": [
  {
   "cell_type": "code",
   "execution_count": 18,
   "id": "1f5c9f2f",
   "metadata": {},
   "outputs": [],
   "source": [
    "import numpy as np\n",
    "from scipy.sparse.linalg import eigsh\n",
    "import scipy.sparse as sparse\n",
    "from scipy.linalg import eigh\n",
    "import scipy.linalg\n",
    "import matplotlib.pyplot as plt\n",
    "from qutip import *\n",
    "import math"
   ]
  },
  {
   "cell_type": "code",
   "execution_count": 19,
   "id": "d6efc705",
   "metadata": {},
   "outputs": [],
   "source": [
    "#plt.rcParams['figure.figsize']=8.5,5.1\n",
    "plt.rcParams['font.size']=20\n",
    "plt.rcParams['lines.linewidth']=1.5\n",
    "plt.rcParams['text.usetex']=True"
   ]
  },
  {
   "cell_type": "code",
   "execution_count": 20,
   "id": "b45a6a3f",
   "metadata": {},
   "outputs": [
    {
     "name": "stdout",
     "output_type": "stream",
     "text": [
      "PHI\n",
      "[[0.         1.         0.         ... 0.         0.         0.        ]\n",
      " [1.         0.         1.41421356 ... 0.         0.         0.        ]\n",
      " [0.         1.41421356 0.         ... 0.         0.         0.        ]\n",
      " ...\n",
      " [0.         0.         0.         ... 0.         7.         0.        ]\n",
      " [0.         0.         0.         ... 7.         0.         7.07106781]\n",
      " [0.         0.         0.         ... 0.         7.07106781 0.        ]]\n",
      "kron PHI\n",
      "[[0.         1.         0.         ... 0.         0.         0.        ]\n",
      " [1.         0.         1.41421356 ... 0.         0.         0.        ]\n",
      " [0.         1.41421356 0.         ... 0.         0.         0.        ]\n",
      " ...\n",
      " [0.         0.         0.         ... 0.         7.         0.        ]\n",
      " [0.         0.         0.         ... 7.         0.         7.07106781]\n",
      " [0.         0.         0.         ... 0.         7.07106781 0.        ]]\n",
      "[[0. 1. 0. ... 0. 0. 1.]\n",
      " [1. 0. 1. ... 0. 0. 0.]\n",
      " [0. 1. 0. ... 0. 0. 0.]\n",
      " ...\n",
      " [0. 0. 0. ... 0. 1. 0.]\n",
      " [0. 0. 0. ... 1. 0. 1.]\n",
      " [1. 0. 0. ... 0. 1. 0.]]\n",
      "COS\n",
      "kron COS\n",
      "[[0. 0. 0. ... 0. 0. 0.]\n",
      " [0. 0. 0. ... 0. 0. 0.]\n",
      " [0. 0. 0. ... 0. 0. 0.]\n",
      " ...\n",
      " [0. 0. 0. ... 0. 0. 0.]\n",
      " [0. 0. 0. ... 0. 0. 0.]\n",
      " [0. 0. 0. ... 0. 0. 0.]]\n",
      "[0.48 0.52]\n",
      "[3.01592895 3.26725636]\n"
     ]
    }
   ],
   "source": [
    "#Construction of necessary elements of theta and phi Hilbert spaces\n",
    "\n",
    "# For phi\n",
    "\n",
    "N=50\n",
    "a_phi=np.diag(np.sqrt(np.arange(1, N+1)), 1)\n",
    "ad_phi=np.diag(np.sqrt(np.arange(1, N+1)), -1)\n",
    "N_phi=ad_phi@a_phi\n",
    "Id_N=np.eye(N+1)\n",
    "\n",
    "# For theta\n",
    "\n",
    "M=20\n",
    "Id_M=np.eye(2*M+1)\n",
    "n_theta=np.flipud(np.fliplr(np.diag(np.arange(-M,M+1), 0)))\n",
    "\n",
    "#Values of equilibrium\n",
    "\n",
    "phi_ext_val=np.pi\n",
    "ng_val=0.5\n",
    "\n",
    "#Qubit parameters 1 \n",
    "\n",
    "E_Cs=1.0\n",
    "E_Cj=1.0\n",
    "E_L=1.0\n",
    "E_J=1.0\n",
    "alpha=(1j*(E_Cj/E_L)**(1.0/4.0))\n",
    "\n",
    "# Qubit parameters 2\n",
    "\n",
    "E_Cs_2=(1.0/20)\n",
    "E_Cj_2=1.0\n",
    "E_L_2=(1.0/16)\n",
    "E_J_2=(1.0/5.0)\n",
    "alpha2=(1j*(E_Cj_2/E_L_2)**(1.0/4.0))\n",
    "\n",
    "#FOR EXPECTATION VALUES\n",
    "\n",
    "#PHI\n",
    "print(\"PHI\")\n",
    "print((E_Cj/E_L)**(1.0/4.0)*(a_phi+ad_phi))\n",
    "phi=np.kron(Id_M,((E_Cj/E_L)**(1.0/4.0))*(a_phi+ad_phi))\n",
    "print(\"kron PHI\")\n",
    "print(phi)\n",
    "phi2=np.kron(Id_M,((E_Cj_2/E_L_2)**(1.0/4.0))*(a_phi+ad_phi))\n",
    "\n",
    "#COS_THETA\n",
    "costheta=np.diag(np.ones(2*M),1)+np.diag(np.ones(2*M),-1) \n",
    "costheta[0][2*M]+=1\n",
    "costheta[2*M][0]+=1\n",
    "print(costheta)\n",
    "print(\"COS\")\n",
    "cos_theta=np.kron(costheta,Id_N)\n",
    "print(\"kron COS\")\n",
    "print(cos_theta)\n",
    "\n",
    "#N_PHI\n",
    "N_phi_extended=np.kron(Id_M,N_phi)\n",
    "\n",
    "#N_theta\n",
    "n_theta_extended=np.kron(n_theta,Id_N)\n",
    "\n",
    "\n",
    "#FOR SAVING VALUES OF CALCULATIONS\n",
    "\n",
    "#1ST VALUES\n",
    "\n",
    "ng1=np.arange(0.48,0.53,0.04)\n",
    "print(ng1)\n",
    "a=np.pi-(np.pi*0.04)\n",
    "b=np.pi+(np.pi*0.04 + 0.01)\n",
    "phi_ext1=np.arange(a,b,(0.04*np.pi)*2)\n",
    "print(phi_ext1)\n",
    "Energies=[]\n",
    "Eigenvectors=[]\n",
    "\n",
    "Expvals_costheta_NG=[]\n",
    "Expvals_phi_NG=[]\n",
    "Expvals_N_phi_NG=[]\n",
    "Expvals_n_theta_NG=[]\n",
    "\n",
    "Expvals_costheta_PHIEXT=[]\n",
    "Expvals_phi_PHIEXT=[]\n",
    "Expvals_N_phi_PHIEXT=[]\n",
    "Expvals_n_theta_PHIEXT=[]\n",
    "\n",
    "#2ND VALUES\n",
    "\n",
    "ng2=np.arange(0.48,0.53,0.04)\n",
    "phi_ext2=np.arange(a,b,(0.04*np.pi)*2)\n",
    "Energies2=[]\n",
    "Eigenvectors2=[]\n",
    "\n",
    "Expvals2_costheta_NG=[]\n",
    "Expvals2_phi_NG=[]\n",
    "Expvals2_N_phi_NG=[]\n",
    "Expvals2_n_theta_NG=[]\n",
    "\n",
    "Expvals2_costheta_PHIEXT=[]\n",
    "Expvals2_phi_PHIEXT=[]\n",
    "Expvals2_N_phi_PHIEXT=[]\n",
    "Expvals2_n_theta_PHIEXT=[]\n"
   ]
  },
  {
   "cell_type": "code",
   "execution_count": 21,
   "id": "568910dd",
   "metadata": {},
   "outputs": [],
   "source": [
    "# Construction of the 0-pi Hamiltonian\n",
    "\n",
    "def Hamiltonian_0pi(EJ,ECS,ECJ,EL,n,phi,alph):\n",
    "    #Initial\n",
    "    H=np.zeros(((2*M+1)*(N+1),(2*M+1)*(N+1)))\n",
    "    #Free Hamiltonian construction\n",
    "    H1=4*ECS*((n_theta-n*Id_M)@(n_theta-n*Id_M))\n",
    "    H_theta=np.kron(H1,Id_N)\n",
    "    H2=2*np.sqrt(ECJ*EL)*(N_phi+0.5*Id_N)\n",
    "    H_phi=np.kron(Id_M,H2)\n",
    "    H_0=H_theta+H_phi\n",
    "    #H_0=np.zeros(((2*M+1)*(N+1),(2*M+1)*(N+1)))\n",
    "    #Interaction Hamiltonian construction\n",
    "    cos_theta_ext=np.diag(np.ones(2*M),1)+np.diag(np.ones(2*M),-1) \n",
    "    #cos_theta=np.diag(np.ones(2*M-1),2)+np.diag(np.ones(2*M-1),-2)\n",
    "    cos_theta_ext[0][2*M]+=1\n",
    "    cos_theta_ext[2*M][0]+=1\n",
    "    #cos_phi=(0.5*((displace(N+1,alph)*(math.e**(-1j*phi/2)))+(displace(N+1,-alph)*(math.e**(1j*phi/2)))))*np.diag(np.ones(N+1),0)\n",
    "    cos_phi=0.5*(scipy.linalg.expm(alph*(a_phi+ad_phi)-(Id_N*1j*phi/2))+scipy.linalg.expm(-alph*(a_phi+ad_phi)+(Id_N*1j*phi/2)))\n",
    "    H_I=EJ*np.kron(cos_theta_ext,cos_phi.real)#SIN EL2 \n",
    "    #H_I=np.zeros(((2*M+1)*(N+1),(2*M+1)*(N+1)))\n",
    "    #Total Hamiltonian\n",
    "    H+=H_0-H_I\n",
    "    return H"
   ]
  },
  {
   "cell_type": "code",
   "execution_count": 22,
   "id": "9ebb9d7c",
   "metadata": {},
   "outputs": [],
   "source": [
    "def calculate_expval(vect,operator):\n",
    "    return np.conj(vect)@operator@vect"
   ]
  },
  {
   "cell_type": "code",
   "execution_count": 23,
   "id": "6bb6c7db",
   "metadata": {},
   "outputs": [
    {
     "name": "stdout",
     "output_type": "stream",
     "text": [
      "[1, 1, 0]\n",
      "[[0, 1, 0], [1, 0, 1], [0, 1, 0]]\n",
      "2\n"
     ]
    }
   ],
   "source": [
    "Vprueba=[1,1,0]\n",
    "print(Vprueba)\n",
    "matrix=[[0,1,0],[1,0,1],[0,1,0]]\n",
    "print(matrix)\n",
    "a=calculate_expval(Vprueba,matrix)\n",
    "print(a)\n"
   ]
  },
  {
   "attachments": {},
   "cell_type": "markdown",
   "id": "1dba0b35",
   "metadata": {},
   "source": [
    "## $\\text{1. Plot for } E_{Cs} = E_{Cj} = E_L = 1$, $\\varphi_{ext}= \\pi$, $\\alpha = i \\left(\\frac{E_{CJ}}{E_L}\\right)^{1/4} = i$."
   ]
  },
  {
   "cell_type": "code",
   "execution_count": 24,
   "id": "f4ff39ee",
   "metadata": {},
   "outputs": [
    {
     "name": "stdout",
     "output_type": "stream",
     "text": [
      "Step for ng =  0.48\n",
      "Hamiltonian built, len(H)= 4372281\n",
      "The eigenvalues of the GS and the 1st excited state are  1.7049371654884224  and  1.8404210481619834\n",
      "The eigenvectors of the GS and the 1st excited state are  [ 9.08599572e-19  4.29273316e-18 -4.21396406e-19 ...  1.67367997e-17\n",
      " -1.90909994e-17  1.28820003e-16]  and  [ 1.36182481e-19 -7.06418614e-19 -4.87976340e-18 ... -3.07781989e-17\n",
      "  1.65562856e-17  1.12663253e-17]\n",
      "Eigenvalues and eigenvectors calculated\n",
      "Step for ng =  0.52\n",
      "Hamiltonian built, len(H)= 4372281\n",
      "The eigenvalues of the GS and the 1st excited state are  1.704937165488199  and  1.840421048161806\n",
      "The eigenvectors of the GS and the 1st excited state are  [ 1.18656372e-19  3.71262288e-18  1.03726789e-17 ...  7.09909868e-18\n",
      "  1.60675298e-18 -1.07590289e-16]  and  [ 1.28655710e-19  5.42894959e-18  3.74986719e-18 ... -1.41745356e-17\n",
      " -2.19346146e-17  4.36495075e-17]\n",
      "Eigenvalues and eigenvectors calculated\n"
     ]
    }
   ],
   "source": [
    "# Calculations 1\n",
    "\n",
    "for n1 in ng1:\n",
    "    print(\"Step for ng = \",n1)\n",
    "    H1=Hamiltonian_0pi(E_J,E_Cs,E_Cj,E_L,n1,phi_ext_val,alpha)\n",
    "    print(\"Hamiltonian built, len(H)=\",len(H1)**2)\n",
    "    #vals,vects=np.linalg.eigh(H)\n",
    "    valsNG, vectsNG = eigsh(H1, k=2, which='SA')\n",
    "    #vals,_=np.linalg.eigh(H)\n",
    "    print(\"The eigenvalues of the GS and the 1st excited state are \",valsNG[0],\" and \",valsNG[1])\n",
    "    print(\"The eigenvectors of the GS and the 1st excited state are \",vectsNG[:,0],\" and \",vectsNG[:,1])\n",
    "    print(\"Eigenvalues and eigenvectors calculated\")\n",
    "    #Cos_theta\n",
    "    Expval_costheta_0=calculate_expval(vectsNG[:,0],cos_theta)\n",
    "    Expval_costheta_1=calculate_expval(vectsNG[:,1],cos_theta)\n",
    "    #Phi\n",
    "    Expval_phi_0=calculate_expval(vectsNG[:,0],phi)\n",
    "    Expval_phi_1=calculate_expval(vectsNG[:,1],phi)\n",
    "    #N_phi\n",
    "    Expval_N_phi_0=calculate_expval(vectsNG[:,0],N_phi_extended)\n",
    "    Expval_N_phi_1=calculate_expval(vectsNG[:,1],N_phi_extended)\n",
    "    #n_theta\n",
    "    Expval_n_theta_0=calculate_expval(vectsNG[:,0],n_theta_extended)\n",
    "    Expval_n_theta_1=calculate_expval(vectsNG[:,1],n_theta_extended)\n",
    "    #TOTALS\n",
    "    Expvals_costheta_NG.extend([Expval_costheta_0,Expval_costheta_1])\n",
    "    Expvals_phi_NG.extend([Expval_phi_0,Expval_phi_1])\n",
    "    Expvals_N_phi_NG.extend([Expval_N_phi_0,Expval_N_phi_1])\n",
    "    Expvals_n_theta_NG.extend([Expval_n_theta_0,Expval_n_theta_1])"
   ]
  },
  {
   "cell_type": "code",
   "execution_count": 25,
   "id": "714957e4",
   "metadata": {},
   "outputs": [
    {
     "name": "stdout",
     "output_type": "stream",
     "text": [
      "Step for phi_ext =  3.015928947446201\n",
      "Hamiltonian built, len(H)= 4372281\n",
      "The eigenvalues of the GS and the 1st excited state are  1.737229451326558  and  1.807426536609061\n",
      "The eigenvectors of the GS and the 1st excited state are  [-6.76844651e-18 -2.11591496e-17  1.20005718e-17 ...  1.14399012e-17\n",
      " -5.55462184e-17 -1.41806185e-16]  and  [-8.34042350e-18 -1.54623408e-17  1.23213636e-17 ...  1.59626433e-17\n",
      "  4.90105915e-17  1.96978634e-17]\n",
      "Eigenvalues and eigenvectors calculated\n",
      "Step for phi_ext =  3.2672563597333846\n",
      "Hamiltonian built, len(H)= 4372281\n",
      "The eigenvalues of the GS and the 1st excited state are  1.7372294513267155  and  1.8074265366088729\n",
      "The eigenvectors of the GS and the 1st excited state are  [ 2.94977937e-18 -8.87993793e-19  1.13246485e-17 ...  9.33974483e-18\n",
      "  7.11732376e-17 -6.99026739e-17]  and  [ 1.09938901e-18  2.44061838e-19 -8.31358359e-18 ... -5.71455433e-17\n",
      " -8.74849097e-17 -1.20983637e-16]\n",
      "Eigenvalues and eigenvectors calculated\n"
     ]
    }
   ],
   "source": [
    "# Calculations 1\n",
    "\n",
    "for phi1 in phi_ext1:\n",
    "    print(\"Step for phi_ext = \",phi1)\n",
    "    H2=Hamiltonian_0pi(E_J,E_Cs,E_Cj,E_L,ng_val,phi1,alpha)\n",
    "    print(\"Hamiltonian built, len(H)=\",len(H2)**2)\n",
    "    #vals,vects=np.linalg.eigh(H)\n",
    "    valsPHI, vectsPHI = eigsh(H2, k=2, which='SA')\n",
    "    #vals,_=np.linalg.eigh(H)\n",
    "    print(\"The eigenvalues of the GS and the 1st excited state are \",valsPHI[0],\" and \",valsPHI[1])\n",
    "    print(\"The eigenvectors of the GS and the 1st excited state are \",vectsPHI[:,0],\" and \",vectsPHI[:,1])\n",
    "    print(\"Eigenvalues and eigenvectors calculated\")\n",
    "    #Cos_theta\n",
    "    Expval_costheta_0=calculate_expval(vectsPHI[:,0],cos_theta)\n",
    "    Expval_costheta_1=calculate_expval(vectsPHI[:,1],cos_theta)\n",
    "    #Phi\n",
    "    Expval_phi_0=calculate_expval(vectsPHI[:,0],phi)\n",
    "    Expval_phi_1=calculate_expval(vectsPHI[:,1],phi)\n",
    "    #N_phi\n",
    "    Expval_N_phi_0=calculate_expval(vectsPHI[:,0],N_phi_extended)\n",
    "    Expval_N_phi_1=calculate_expval(vectsPHI[:,1],N_phi_extended)\n",
    "    #n_theta\n",
    "    Expval_n_theta_0=calculate_expval(vectsPHI[:,0],n_theta_extended)\n",
    "    Expval_n_theta_1=calculate_expval(vectsPHI[:,1],n_theta_extended)\n",
    "    #TOTALS\n",
    "    Expvals_costheta_PHIEXT.extend([Expval_costheta_0,Expval_costheta_1])\n",
    "    Expvals_phi_PHIEXT.extend([Expval_phi_0,Expval_phi_1])\n",
    "    Expvals_N_phi_PHIEXT.extend([Expval_N_phi_0,Expval_N_phi_1])\n",
    "    Expvals_n_theta_PHIEXT.extend([Expval_n_theta_0,Expval_n_theta_1])"
   ]
  },
  {
   "attachments": {},
   "cell_type": "markdown",
   "id": "2b0d1706",
   "metadata": {},
   "source": [
    "EXPECTATION VALUES FOR THE FIRST SET OF VALUES FOR THE ENERGIES"
   ]
  },
  {
   "cell_type": "code",
   "execution_count": 26,
   "id": "909d7ea3",
   "metadata": {},
   "outputs": [
    {
     "name": "stdout",
     "output_type": "stream",
     "text": [
      "VARYING NG\n",
      "Exp values of cos_theta varying ng are  [2.884344490716924e-13, -2.5054927369296836e-13, -4.476520662668983e-13, 4.486542161919266e-13]\n",
      "Exp values of phi varying ng are  [1.6079659030736858e-13, -2.422795254929655e-14, -2.552082038036596e-13, 2.0455139223342126e-13]\n",
      "Exp values of N_phi varying ng are  [0.07986229011955934, 0.10106746341760232, 0.079862290119555, 0.10106746341757213]\n",
      "Exp values of n_theta varying ng are  [0.06655789331295803, 0.9120589135131677, 0.9334421066870447, 0.0879410864868042]\n",
      "VARYING PHI_EXT\n",
      "Exp values of cos_theta varying phi_ext are  [1.0787415241388414, -1.0653339214587125, -1.07874152413883, 1.0653339214586959]\n",
      "Exp values of phi varying phi_ext are  [0.545523065500263, -0.5707353367712245, -0.5455230655002119, 0.5707353367710997]\n",
      "Exp values of N_phi varying phi_ext are  [0.0863247591128797, 0.09241049853127131, 0.08632475911286228, 0.09241049853124136]\n",
      "Exp values of n_theta varying phi_ext are  [0.4999999999999807, 0.5000000000000081, 0.5000000000009085, 0.499999999999119]\n"
     ]
    }
   ],
   "source": [
    "#VARYING NG\n",
    "print(\"VARYING NG\")\n",
    "print(\"Exp values of cos_theta varying ng are \",Expvals_costheta_NG)\n",
    "print(\"Exp values of phi varying ng are \",Expvals_phi_NG)\n",
    "print(\"Exp values of N_phi varying ng are \",Expvals_N_phi_NG)\n",
    "print(\"Exp values of n_theta varying ng are \",Expvals_n_theta_NG)\n",
    "#VARYING PHI_EXT\n",
    "print(\"VARYING PHI_EXT\")\n",
    "print(\"Exp values of cos_theta varying phi_ext are \",Expvals_costheta_PHIEXT)\n",
    "print(\"Exp values of phi varying phi_ext are \",Expvals_phi_PHIEXT)\n",
    "print(\"Exp values of N_phi varying phi_ext are \",Expvals_N_phi_PHIEXT)\n",
    "print(\"Exp values of n_theta varying phi_ext are \",Expvals_n_theta_PHIEXT)"
   ]
  },
  {
   "attachments": {},
   "cell_type": "markdown",
   "id": "55604da9",
   "metadata": {},
   "source": [
    "## $\\text{2. Plot for } E_{Cs} = \\frac{1}{20}$, $E_{CJ} = 1$, $E_L = \\frac{1}{16}$, $\\varphi_{ext} = \\pi$, $\\alpha = i \\left(\\frac{E_{CJ}}{E_L}\\right)^{1/4} = 2i$."
   ]
  },
  {
   "cell_type": "code",
   "execution_count": 27,
   "id": "5c0758ca",
   "metadata": {},
   "outputs": [
    {
     "name": "stdout",
     "output_type": "stream",
     "text": [
      "Step for ng =  0.48\n",
      "Hamiltonian built, len(H)= 4372281\n",
      "The eigenvalues of the GS and the 1st excited state are  0.2713101817193545  and  0.2791137889143804\n",
      "The eigenvectors of the GS and the 1st excited state are  [ 1.02732256e-17  8.37895169e-19  1.83042469e-17 ...  2.07423594e-17\n",
      "  6.51626423e-17 -9.95848012e-17]  and  [ 5.90571119e-19 -3.89104181e-19 -1.16869101e-17 ...  4.33374430e-17\n",
      " -2.69413390e-17 -1.30379773e-16]\n",
      "Eigenvalues and eigenvectors calculated\n",
      "Step for ng =  0.52\n",
      "Hamiltonian built, len(H)= 4372281\n",
      "The eigenvalues of the GS and the 1st excited state are  0.2713101817193678  and  0.27911378891438277\n",
      "The eigenvectors of the GS and the 1st excited state are  [ 1.65035779e-19  9.02563632e-19  2.79611612e-18 ...  4.43081940e-17\n",
      "  6.42402732e-17 -2.43302489e-16]  and  [-2.79531864e-18 -3.51570114e-18 -7.33111378e-18 ... -1.11879328e-18\n",
      "  2.52835203e-17  7.38826001e-17]\n",
      "Eigenvalues and eigenvectors calculated\n"
     ]
    }
   ],
   "source": [
    "# Calculations 2\n",
    "\n",
    "for n2 in ng2:\n",
    "    print(\"Step for ng = \",n2)\n",
    "    H3=Hamiltonian_0pi(E_J_2,E_Cs_2,E_Cj_2,E_L_2,n2,phi_ext_val,alpha2)\n",
    "    print(\"Hamiltonian built, len(H)=\",len(H3)**2)\n",
    "    #vals2,vects2=np.linalg.eigh(H2)\n",
    "    vals2NG, vects2NG = eigsh(H3, k=2, which='SA')\n",
    "    #vals2,_=np.linalg.eigh(H3)\n",
    "    print(\"The eigenvalues of the GS and the 1st excited state are \",vals2NG[0],\" and \",vals2NG[1])\n",
    "    print(\"The eigenvectors of the GS and the 1st excited state are \",vects2NG[:,0],\" and \",vects2NG[:,1])\n",
    "    print(\"Eigenvalues and eigenvectors calculated\")\n",
    "    #Cos_theta\n",
    "    Expval2_costheta_0=calculate_expval(vects2NG[:,0],cos_theta)\n",
    "    Expval2_costheta_1=calculate_expval(vects2NG[:,1],cos_theta)\n",
    "    #Phi\n",
    "    Expval2_phi_0=calculate_expval(vects2NG[:,0],phi)\n",
    "    Expval2_phi_1=calculate_expval(vects2NG[:,1],phi)\n",
    "    #N_phi\n",
    "    Expval2_N_phi_0=calculate_expval(vects2NG[:,0],N_phi_extended)\n",
    "    Expval2_N_phi_1=calculate_expval(vects2NG[:,1],N_phi_extended)\n",
    "    #n_theta\n",
    "    Expval2_n_theta_0=calculate_expval(vects2NG[:,0],n_theta_extended)\n",
    "    Expval2_n_theta_1=calculate_expval(vects2NG[:,1],n_theta_extended)\n",
    "    #TOTALS\n",
    "    Expvals2_costheta_NG.extend([Expval2_costheta_0,Expval2_costheta_1])\n",
    "    Expvals2_phi_NG.extend([Expval2_phi_0,Expval2_phi_1])\n",
    "    Expvals2_N_phi_NG.extend([Expval2_N_phi_0,Expval2_N_phi_1])\n",
    "    Expvals2_n_theta_NG.extend([Expval2_n_theta_0,Expval2_n_theta_1])"
   ]
  },
  {
   "cell_type": "code",
   "execution_count": 28,
   "id": "3f1f63a1",
   "metadata": {},
   "outputs": [
    {
     "name": "stdout",
     "output_type": "stream",
     "text": [
      "Step for phi_ext =  3.015928947446201\n",
      "Hamiltonian built, len(H)= 4372281\n",
      "The eigenvalues of the GS and the 1st excited state are  0.2734323640219567  and  0.27685723177124916\n",
      "The eigenvectors of the GS and the 1st excited state are  [ 1.72219469e-17 -2.37308587e-18 -4.92863114e-18 ... -3.53904984e-17\n",
      "  7.49131668e-18 -2.09721404e-16]  and  [-9.40922010e-18  2.41631682e-18  7.58179413e-18 ... -8.62321333e-17\n",
      "  8.04580674e-17 -4.58037470e-18]\n",
      "Eigenvalues and eigenvectors calculated\n",
      "Step for phi_ext =  3.2672563597333846\n",
      "Hamiltonian built, len(H)= 4372281\n",
      "The eigenvalues of the GS and the 1st excited state are  0.2734323640219318  and  0.27685723177125615\n",
      "The eigenvectors of the GS and the 1st excited state are  [-2.73025968e-18 -3.81282873e-18 -4.59828792e-19 ... -1.28107006e-17\n",
      " -1.33011314e-18  5.00969411e-17]  and  [ 2.07788525e-18  4.41974531e-18  1.33842124e-17 ... -1.04411211e-16\n",
      "  6.65325984e-17  2.58508094e-16]\n",
      "Eigenvalues and eigenvectors calculated\n"
     ]
    }
   ],
   "source": [
    "# Calculations 2\n",
    "\n",
    "for phi2 in phi_ext2:\n",
    "    print(\"Step for phi_ext = \",phi2)\n",
    "    H4=Hamiltonian_0pi(E_J_2,E_Cs_2,E_Cj_2,E_L_2,ng_val,phi2,alpha2)\n",
    "    print(\"Hamiltonian built, len(H)=\",len(H4)**2)\n",
    "    #vals,vects=np.linalg.eigh(H)\n",
    "    vals2PHI, vects2PHI = eigsh(H4, k=2, which='SA')\n",
    "    #vals,_=np.linalg.eigh(H)\n",
    "    print(\"The eigenvalues of the GS and the 1st excited state are \",vals2PHI[0],\" and \",vals2PHI[1])\n",
    "    print(\"The eigenvectors of the GS and the 1st excited state are \",vects2PHI[:,0],\" and \",vects2PHI[:,1])\n",
    "    print(\"Eigenvalues and eigenvectors calculated\")\n",
    "    #Cos_theta\n",
    "    Expval2_costheta_0=calculate_expval(vects2PHI[:,0],cos_theta)\n",
    "    Expval2_costheta_1=calculate_expval(vects2PHI[:,1],cos_theta)\n",
    "    #Phi\n",
    "    Expval2_phi_0=calculate_expval(vects2PHI[:,0],phi)\n",
    "    Expval2_phi_1=calculate_expval(vects2PHI[:,1],phi)\n",
    "    #N_phi\n",
    "    Expval2_N_phi_0=calculate_expval(vects2PHI[:,0],N_phi_extended)\n",
    "    Expval2_N_phi_1=calculate_expval(vects2PHI[:,1],N_phi_extended)\n",
    "    #n_theta\n",
    "    Expval2_n_theta_0=calculate_expval(vects2PHI[:,0],n_theta_extended)\n",
    "    Expval2_n_theta_1=calculate_expval(vects2PHI[:,1],n_theta_extended)\n",
    "    #TOTALS\n",
    "    Expvals2_costheta_PHIEXT.extend([Expval2_costheta_0,Expval2_costheta_1])\n",
    "    Expvals2_phi_PHIEXT.extend([Expval2_phi_0,Expval2_phi_1])\n",
    "    Expvals2_N_phi_PHIEXT.extend([Expval2_N_phi_0,Expval2_N_phi_1])\n",
    "    Expvals2_n_theta_PHIEXT.extend([Expval2_n_theta_0,Expval2_n_theta_1])"
   ]
  },
  {
   "attachments": {},
   "cell_type": "markdown",
   "id": "0ea88f4e",
   "metadata": {},
   "source": [
    "EXPECTATION VALUES FOR THE SECOND SET OF VALUES FOR THE ENERGIES"
   ]
  },
  {
   "cell_type": "code",
   "execution_count": 29,
   "id": "566a9f6b",
   "metadata": {},
   "outputs": [
    {
     "name": "stdout",
     "output_type": "stream",
     "text": [
      "VARYING NG\n",
      "Exp values of cos_theta varying ng are  [6.372263833895028e-13, -6.352119745837051e-13, -1.8179228654223286e-12, 1.8241032411698128e-12]\n",
      "Exp values of phi varying ng are  [1.2927198060044622e-13, -1.2947227346249904e-13, -3.688566364805042e-13, 3.7534291575307805e-13]\n",
      "Exp values of N_phi varying ng are  [0.04370134484883785, 0.044600210154699296, 0.04370134484883853, 0.04460021015470089]\n",
      "Exp values of n_theta varying ng are  [0.011508023424612606, 0.9869239041755583, 0.9884919765753893, 0.013076095824437002]\n",
      "VARYING PHI_EXT\n",
      "Exp values of cos_theta varying phi_ext are  [1.0891265683419684, -1.0745041784607836, -1.089126568341967, 1.0745041784607066]\n",
      "Exp values of phi varying phi_ext are  [0.21530721535963937, -0.22023059484259982, -0.21530721535963185, 0.22023059484259686]\n",
      "Exp values of N_phi varying phi_ext are  [0.043960985809941004, 0.04425921547554168, 0.043960985809939304, 0.04425921547554093]\n",
      "Exp values of n_theta varying phi_ext are  [0.5000000000060025, 0.49999999999398986, 0.4999999999999678, 0.500000000000035]\n"
     ]
    }
   ],
   "source": [
    "#VARYING NG\n",
    "print(\"VARYING NG\")\n",
    "print(\"Exp values of cos_theta varying ng are \",Expvals2_costheta_NG)\n",
    "print(\"Exp values of phi varying ng are \",Expvals2_phi_NG)\n",
    "print(\"Exp values of N_phi varying ng are \",Expvals2_N_phi_NG)\n",
    "print(\"Exp values of n_theta varying ng are \",Expvals2_n_theta_NG)\n",
    "#VARYING PHI_EXT\n",
    "print(\"VARYING PHI_EXT\")\n",
    "print(\"Exp values of cos_theta varying phi_ext are \",Expvals2_costheta_PHIEXT)\n",
    "print(\"Exp values of phi varying phi_ext are \",Expvals2_phi_PHIEXT)\n",
    "print(\"Exp values of N_phi varying phi_ext are \",Expvals2_N_phi_PHIEXT)\n",
    "print(\"Exp values of n_theta varying phi_ext are \",Expvals2_n_theta_PHIEXT)"
   ]
  }
 ],
 "metadata": {
  "kernelspec": {
   "display_name": "Python 3 (ipykernel)",
   "language": "python",
   "name": "python3"
  },
  "language_info": {
   "codemirror_mode": {
    "name": "ipython",
    "version": 3
   },
   "file_extension": ".py",
   "mimetype": "text/x-python",
   "name": "python",
   "nbconvert_exporter": "python",
   "pygments_lexer": "ipython3",
   "version": "3.9.13"
  }
 },
 "nbformat": 4,
 "nbformat_minor": 5
}
