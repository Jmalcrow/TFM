{
 "cells": [
  {
   "attachments": {},
   "cell_type": "markdown",
   "id": "61b4f2ee",
   "metadata": {},
   "source": [
    "# $\\text{Exact diagonalization of the } 0 - \\pi \\text{ qubit Hamiltonian} - E \\text{ } vs \\text{ } E_J$"
   ]
  },
  {
   "cell_type": "code",
   "execution_count": 1,
   "id": "12026ba1",
   "metadata": {},
   "outputs": [],
   "source": [
    "import numpy as np\n",
    "from scipy.sparse.linalg import eigsh\n",
    "import scipy.sparse as sparse\n",
    "from scipy.linalg import eigh\n",
    "import scipy.linalg\n",
    "import matplotlib.pyplot as plt\n",
    "from qutip import *\n",
    "import math"
   ]
  },
  {
   "cell_type": "code",
   "execution_count": 2,
   "id": "e4a8d5f3",
   "metadata": {},
   "outputs": [],
   "source": [
    "#plt.rcParams['figure.figsize']=8.5,5.1\n",
    "plt.rcParams['font.size']=20\n",
    "plt.rcParams['lines.linewidth']=1.5\n",
    "plt.rcParams['text.usetex']=True"
   ]
  },
  {
   "cell_type": "code",
   "execution_count": 3,
   "id": "6fac8993",
   "metadata": {},
   "outputs": [],
   "source": [
    "#Construction of necessary elements of theta and phi Hilbert spaces\n",
    "\n",
    "# For phi\n",
    "\n",
    "N=20\n",
    "a_phi=np.diag(np.sqrt(np.arange(1, N+1)), 1)\n",
    "ad_phi=np.diag(np.sqrt(np.arange(1, N+1)), -1)\n",
    "N_phi=ad_phi@a_phi\n",
    "Id_N=np.eye(N+1)\n",
    "\n",
    "# For theta\n",
    "\n",
    "M=20\n",
    "Id_M=np.eye(2*M+1)\n",
    "n_theta=np.flipud(np.fliplr(np.diag(np.arange(-M,M+1), 0)))\n",
    "\n",
    "# Qubit parameters\n",
    "\n",
    "ng=0.5\n",
    "phi_ext=np.pi\n",
    "\n",
    "# Qubit parameters 1\n",
    "\n",
    "E_Cs=1.0\n",
    "E_Cj=1.0\n",
    "E_L=1.0\n",
    "alpha=(1j*(E_Cj/E_L)**(1.0/4.0))\n",
    "\n",
    "#Qubit parameters 2\n",
    "\n",
    "E_Cs_2=(1.0/20)\n",
    "E_Cj_2=1.0\n",
    "E_L_2=(1.0/16)\n",
    "alpha2=(1j*(E_Cj_2/E_L_2)**(1.0/4.0))\n",
    "\n",
    "#For calculations\n",
    "\n",
    "E_J=np.arange(0,1.2,0.2)#1.2\n",
    "Energies=[]\n",
    "E_J_2=np.arange(0,0.41,0.05)#0.41\n",
    "Energies2=[]"
   ]
  },
  {
   "cell_type": "code",
   "execution_count": 4,
   "id": "6a041893",
   "metadata": {},
   "outputs": [
    {
     "data": {
      "text/latex": [
       "Quantum object: dims = [[21], [21]], shape = (21, 21), type = oper, isherm = True $ \\\\ \\left(\\begin{matrix}0.0 & 0.607 & 0.0 & -0.248 & 0.0 & \\cdots & 0.0 & 3.216\\times10^{-08} & 0.0 & -1.736\\times10^{-09} & 0.0\\\\0.607 & 0.0 & 0.429 & 0.0 & -0.371 & \\cdots & -1.989\\times10^{-06} & 0.0 & 1.289\\times10^{-07} & 0.0 & -7.762\\times10^{-09}\\\\0.0 & 0.429 & 0.0 & 0.175 & 0.0 & \\cdots & 0.0 & -5.435\\times10^{-06} & 0.0 & 3.739\\times10^{-07} & 0.0\\\\-0.248 & 0.0 & 0.175 & 0.0 & -0.051 & \\cdots & 1.455\\times10^{-04} & 0.0 & -1.248\\times10^{-05} & 0.0 & 9.718\\times10^{-07}\\\\0.0 & -0.371 & 0.0 & -0.051 & 0.0 & \\cdots & 0.0 & 2.781\\times10^{-04} & 0.0 & -2.534\\times10^{-05} & 0.0\\\\\\vdots & \\vdots & \\vdots & \\vdots & \\vdots & \\ddots & \\vdots & \\vdots & \\vdots & \\vdots & \\vdots\\\\0.0 & -1.989\\times10^{-06} & 0.0 & 1.455\\times10^{-04} & 0.0 & \\cdots & 0.0 & 0.059 & 0.0 & 0.620 & 0.0\\\\3.216\\times10^{-08} & 0.0 & -5.435\\times10^{-06} & 0.0 & 2.781\\times10^{-04} & \\cdots & 0.059 & 0.0 & 0.628 & 0.0 & 0.259\\\\0.0 & 1.289\\times10^{-07} & 0.0 & -1.248\\times10^{-05} & 0.0 & \\cdots & 0.0 & 0.628 & 0.0 & 0.315 & 0.0\\\\-1.736\\times10^{-09} & 0.0 & 3.739\\times10^{-07} & 0.0 & -2.534\\times10^{-05} & \\cdots & 0.620 & 0.0 & 0.315 & 0.0 & 0.071\\\\0.0 & -7.762\\times10^{-09} & 0.0 & 9.718\\times10^{-07} & 0.0 & \\cdots & 0.0 & 0.259 & 0.0 & 0.071 & 0.0\\\\\\end{matrix}\\right)$"
      ],
      "text/plain": [
       "Quantum object: dims = [[21], [21]], shape = (21, 21), type = oper, isherm = True\n",
       "Qobj data =\n",
       "[[ 0.00000000e+00  6.06530660e-01  0.00000000e+00 -2.47615105e-01\n",
       "   0.00000000e+00  5.53684207e-02  0.00000000e+00 -8.54353279e-03\n",
       "   0.00000000e+00  1.00686500e-03  0.00000000e+00 -9.60008106e-05\n",
       "   0.00000000e+00  7.68621628e-06  0.00000000e+00 -5.30399311e-07\n",
       "   0.00000000e+00  3.21600727e-08  0.00000000e+00 -1.73554218e-09\n",
       "   0.00000000e+00]\n",
       " [ 6.06530660e-01  0.00000000e+00  4.28881942e-01  0.00000000e+00\n",
       "  -3.71422657e-01  0.00000000e+00  1.13020315e-01  0.00000000e+00\n",
       "  -2.11441649e-02  0.00000000e+00  2.86558801e-03  0.00000000e+00\n",
       "  -3.04843516e-04  0.00000000e+00  2.67049602e-05  0.00000000e+00\n",
       "  -1.98899787e-06  0.00000000e+00  1.28878580e-07  0.00000000e+00\n",
       "  -7.76158059e-09]\n",
       " [ 0.00000000e+00  4.28881942e-01  0.00000000e+00  1.75090320e-01\n",
       "   0.00000000e+00 -4.30665243e-01  0.00000000e+00  1.75194509e-01\n",
       "   0.00000000e+00 -3.91578586e-02  0.00000000e+00  6.04157135e-03\n",
       "   0.00000000e+00 -7.11981811e-04  0.00000000e+00  6.78838590e-05\n",
       "   0.00000000e+00 -5.43498031e-06  0.00000000e+00  3.73913403e-07\n",
       "   0.00000000e+00]\n",
       " [-2.47615105e-01  0.00000000e+00  1.75090320e-01  0.00000000e+00\n",
       "  -5.05442216e-02  0.00000000e+00 -4.33719295e-01  0.00000000e+00\n",
       "   2.35532173e-01  0.00000000e+00 -6.22631561e-02  0.00000000e+00\n",
       "   1.08499381e-02  0.00000000e+00 -1.40806808e-03  0.00000000e+00\n",
       "   1.45457226e-04  0.00000000e+00 -1.24771627e-05  0.00000000e+00\n",
       "   9.71777559e-07]\n",
       " [ 0.00000000e+00 -3.71422657e-01  0.00000000e+00 -5.05442216e-02\n",
       "   0.00000000e+00 -2.14738599e-01  0.00000000e+00 -3.92386799e-01\n",
       "   0.00000000e+00  2.88763267e-01  0.00000000e+00 -8.96912737e-02\n",
       "   0.00000000e+00  1.75423442e-02  0.00000000e+00 -2.49458681e-03\n",
       "   0.00000000e+00  2.78106526e-04  0.00000000e+00 -2.53442034e-05\n",
       "   0.00000000e+00]\n",
       " [ 5.53684207e-02  0.00000000e+00 -4.30665243e-01  0.00000000e+00\n",
       "  -2.14738599e-01  0.00000000e+00 -3.11582340e-01  0.00000000e+00\n",
       "  -3.19584208e-01  0.00000000e+00  3.31029130e-01  0.00000000e+00\n",
       "  -1.20367423e-01  0.00000000e+00  2.62926196e-02  0.00000000e+00\n",
       "  -4.07975036e-03  0.00000000e+00  4.89424998e-04  0.00000000e+00\n",
       "  -5.15575911e-05]\n",
       " [ 0.00000000e+00  1.13020315e-01  0.00000000e+00 -4.33719295e-01\n",
       "   0.00000000e+00 -3.11582340e-01  0.00000000e+00 -3.47372947e-01\n",
       "   0.00000000e+00 -2.27655942e-01  0.00000000e+00  3.59866875e-01\n",
       "   0.00000000e+00 -1.53027306e-01  0.00000000e+00  3.71873131e-02\n",
       "   0.00000000e+00 -6.27340955e-03  0.00000000e+00  7.99943301e-04\n",
       "   0.00000000e+00]\n",
       " [-8.54353279e-03  0.00000000e+00  1.75194509e-01  0.00000000e+00\n",
       "  -3.92386799e-01  0.00000000e+00 -3.47372947e-01  0.00000000e+00\n",
       "  -3.33617392e-01  0.00000000e+00 -1.27457315e-01  0.00000000e+00\n",
       "   3.74073855e-01  0.00000000e+00 -1.86318875e-01  0.00000000e+00\n",
       "   5.02226449e-02  0.00000000e+00 -9.19504112e-03  0.00000000e+00\n",
       "   1.39988402e-03]\n",
       " [ 0.00000000e+00 -2.11441649e-02  0.00000000e+00  2.35532173e-01\n",
       "   0.00000000e+00 -3.19584208e-01  0.00000000e+00 -3.33617392e-01\n",
       "   0.00000000e+00 -2.83403657e-01  0.00000000e+00 -2.79365524e-02\n",
       "   0.00000000e+00  3.73519705e-01  0.00000000e+00 -2.18887627e-01\n",
       "   0.00000000e+00  6.52871323e-02  0.00000000e+00 -1.27053775e-02\n",
       "   0.00000000e+00]\n",
       " [ 1.00686500e-03  0.00000000e+00 -3.91578586e-02  0.00000000e+00\n",
       "   2.88763267e-01  0.00000000e+00 -2.27655942e-01  0.00000000e+00\n",
       "  -2.83403657e-01  0.00000000e+00 -2.09450796e-01  0.00000000e+00\n",
       "   6.39762514e-02  0.00000000e+00  3.58941329e-01  0.00000000e+00\n",
       "  -2.49471953e-01  0.00000000e+00  8.25386303e-02  0.00000000e+00\n",
       "  -2.02598818e-02]\n",
       " [ 0.00000000e+00  2.86558801e-03  0.00000000e+00 -6.22631561e-02\n",
       "   0.00000000e+00  3.31029130e-01  0.00000000e+00 -1.27457315e-01\n",
       "   0.00000000e+00 -2.09450796e-01  0.00000000e+00 -1.23088435e-01\n",
       "   0.00000000e+00  1.43297352e-01  0.00000000e+00  3.31706755e-01\n",
       "   0.00000000e+00 -2.76471250e-01  0.00000000e+00  9.71732302e-02\n",
       "   0.00000000e+00]\n",
       " [-9.60008106e-05  0.00000000e+00  6.04157135e-03  0.00000000e+00\n",
       "  -8.96912737e-02  0.00000000e+00  3.59866875e-01  0.00000000e+00\n",
       "  -2.79365524e-02  0.00000000e+00 -1.23088435e-01  0.00000000e+00\n",
       "  -3.37799947e-02  0.00000000e+00  2.06774124e-01  0.00000000e+00\n",
       "   2.94216710e-01  0.00000000e+00 -3.04650063e-01  0.00000000e+00\n",
       "   1.50345396e-01]\n",
       " [ 0.00000000e+00 -3.04843516e-04  0.00000000e+00  1.08499381e-02\n",
       "   0.00000000e+00 -1.20367423e-01  0.00000000e+00  3.74073855e-01\n",
       "   0.00000000e+00  6.39762514e-02  0.00000000e+00 -3.37799947e-02\n",
       "   0.00000000e+00  5.09854778e-02  0.00000000e+00  2.53327654e-01\n",
       "   0.00000000e+00  2.41770397e-01  0.00000000e+00 -2.82284136e-01\n",
       "   0.00000000e+00]\n",
       " [ 7.68621628e-06  0.00000000e+00 -7.11981811e-04  0.00000000e+00\n",
       "   1.75423442e-02  0.00000000e+00 -1.53027306e-01  0.00000000e+00\n",
       "   3.73519705e-01  0.00000000e+00  1.43297352e-01  0.00000000e+00\n",
       "   5.09854778e-02  0.00000000e+00  1.26365530e-01  0.00000000e+00\n",
       "   2.74842553e-01  0.00000000e+00  2.35923889e-01  0.00000000e+00\n",
       "  -4.94577563e-01]\n",
       " [ 0.00000000e+00  2.67049602e-05  0.00000000e+00 -1.40806808e-03\n",
       "   0.00000000e+00  2.62926196e-02  0.00000000e+00 -1.86318875e-01\n",
       "   0.00000000e+00  3.58941329e-01  0.00000000e+00  2.06774124e-01\n",
       "   0.00000000e+00  1.26365530e-01  0.00000000e+00  1.80507163e-01\n",
       "   0.00000000e+00  3.37398504e-01  0.00000000e+00 -4.42744402e-02\n",
       "   0.00000000e+00]\n",
       " [-5.30399311e-07  0.00000000e+00  6.78838590e-05  0.00000000e+00\n",
       "  -2.49458681e-03  0.00000000e+00  3.71873131e-02  0.00000000e+00\n",
       "  -2.18887627e-01  0.00000000e+00  3.31706755e-01  0.00000000e+00\n",
       "   2.53327654e-01  0.00000000e+00  1.80507163e-01  0.00000000e+00\n",
       "   2.80092000e-01  0.00000000e+00  9.18481739e-02  0.00000000e+00\n",
       "   4.26683599e-01]\n",
       " [ 0.00000000e+00 -1.98899787e-06  0.00000000e+00  1.45457226e-04\n",
       "   0.00000000e+00 -4.07975036e-03  0.00000000e+00  5.02226449e-02\n",
       "   0.00000000e+00 -2.49471953e-01  0.00000000e+00  2.94216710e-01\n",
       "   0.00000000e+00  2.74842553e-01  0.00000000e+00  2.80092000e-01\n",
       "   0.00000000e+00  5.94472285e-02  0.00000000e+00  6.20004536e-01\n",
       "   0.00000000e+00]\n",
       " [ 3.21600727e-08  0.00000000e+00 -5.43498031e-06  0.00000000e+00\n",
       "   2.78106526e-04  0.00000000e+00 -6.27340955e-03  0.00000000e+00\n",
       "   6.52871323e-02  0.00000000e+00 -2.76471250e-01  0.00000000e+00\n",
       "   2.41770397e-01  0.00000000e+00  3.37398504e-01  0.00000000e+00\n",
       "   5.94472285e-02  0.00000000e+00  6.27526405e-01  0.00000000e+00\n",
       "   2.58545445e-01]\n",
       " [ 0.00000000e+00  1.28878580e-07  0.00000000e+00 -1.24771627e-05\n",
       "   0.00000000e+00  4.89424998e-04  0.00000000e+00 -9.19504112e-03\n",
       "   0.00000000e+00  8.25386303e-02  0.00000000e+00 -3.04650063e-01\n",
       "   0.00000000e+00  2.35923889e-01  0.00000000e+00  9.18481739e-02\n",
       "   0.00000000e+00  6.27526405e-01  0.00000000e+00  3.14716818e-01\n",
       "   0.00000000e+00]\n",
       " [-1.73554218e-09  0.00000000e+00  3.73913403e-07  0.00000000e+00\n",
       "  -2.53442034e-05  0.00000000e+00  7.99943301e-04  0.00000000e+00\n",
       "  -1.27053775e-02  0.00000000e+00  9.71732302e-02  0.00000000e+00\n",
       "  -2.82284136e-01  0.00000000e+00 -4.42744402e-02  0.00000000e+00\n",
       "   6.20004536e-01  0.00000000e+00  3.14716818e-01  0.00000000e+00\n",
       "   7.12429848e-02]\n",
       " [ 0.00000000e+00 -7.76158059e-09  0.00000000e+00  9.71777559e-07\n",
       "   0.00000000e+00 -5.15575911e-05  0.00000000e+00  1.39988402e-03\n",
       "   0.00000000e+00 -2.02598818e-02  0.00000000e+00  1.50345396e-01\n",
       "   0.00000000e+00 -4.94577563e-01  0.00000000e+00  4.26683599e-01\n",
       "   0.00000000e+00  2.58545445e-01  0.00000000e+00  7.12429848e-02\n",
       "   0.00000000e+00]]"
      ]
     },
     "execution_count": 4,
     "metadata": {},
     "output_type": "execute_result"
    }
   ],
   "source": [
    "(0.5*((displace(N+1,alpha)*(math.e**(-1j*phi_ext/2)))+(displace(N+1,-alpha)*(math.e**(1j*phi_ext/2)))))#*np.diag(np.ones(N+1),0)"
   ]
  },
  {
   "cell_type": "code",
   "execution_count": 5,
   "id": "0e59850e",
   "metadata": {},
   "outputs": [],
   "source": [
    "# Construction of the 0-pi Hamiltonian\n",
    "\n",
    "def Hamiltonian_0pi(EJ,ECS,ECJ,EL,n,phi,alph):\n",
    "    #Initial\n",
    "    H=np.zeros(((2*M+1)*(N+1),(2*M+1)*(N+1)))   #,dtype=complex\n",
    "    #Free Hamiltonian construction\n",
    "    H1=4*ECS*((n_theta-n*Id_M)@(n_theta-n*Id_M))\n",
    "    H_theta=np.kron(H1,Id_N)\n",
    "    H2=2*np.sqrt(ECJ*EL)*(N_phi+0.5*Id_N)  #2*\n",
    "    H_phi=np.kron(Id_M,H2)\n",
    "    H_0=H_theta+H_phi\n",
    "    #H_0=np.zeros(((2*M+1)*(N+1),(2*M+1)*(N+1)))\n",
    "    #Interaction Hamiltonian construction\n",
    "    cos_theta=np.diag(np.ones(2*M),1)+np.diag(np.ones(2*M),-1)\n",
    "    #cos_theta=np.diag(np.ones(2*M-1),2)+np.diag(np.ones(2*M-1),-2)\n",
    "    cos_theta[0][2*M]+=1\n",
    "    cos_theta[2*M][0]+=1\n",
    "    #cos_phi=(0.5*((displace(N+1,alph)*(math.e**(-1j*phi/2)))+(displace(N+1,-alph)*(math.e**(1j*phi/2)))))*np.diag(np.ones(N+1),0)\n",
    "    cos_phi=0.5*(scipy.linalg.expm(alph*(a_phi+ad_phi)-(Id_N*1j*phi/2))+scipy.linalg.expm(-alph*(a_phi+ad_phi)+(Id_N*1j*phi/2)))\n",
    "    #H_I=2*EJ*np.kron(cos_theta,Id_N)@np.kron(Id_M,cos_phi.real)\n",
    "    H_I=EJ*np.kron(cos_theta,cos_phi.real) #HE QUITADO EL DOOOOOOOOOSSSSSS\n",
    "    #H_I=np.zeros(((2*M+1)*(N+1),(2*M+1)*(N+1)))\n",
    "    #Total Hamiltonian\n",
    "    H+=H_0-H_I  #.astype(complex)\n",
    "    return H"
   ]
  },
  {
   "cell_type": "code",
   "execution_count": 6,
   "id": "928a5cc1",
   "metadata": {},
   "outputs": [],
   "source": [
    "# Construction of the 0-pi Hamiltonian LOW ENERGY APPROXIMATION\n",
    "\n",
    "def Hamiltonian_0pi_approx(EJ,ECS,ECJ,EL,n):\n",
    "    #Initial\n",
    "    H=np.zeros((2*M+1,2*M+1))   #,dtype=complex\n",
    "    H1=4*ECS*((n_theta-n*Id_M)@(n_theta-n*Id_M))+(np.sqrt(ECJ*EL)*Id_M)\n",
    "    #Interaction Hamiltonian construction\n",
    "    cos_2theta=np.diag(np.ones(2*M-1),2)+np.diag(np.ones(2*M-1),-2)\n",
    "    cos_2theta[0][2*M]+=1\n",
    "    cos_2theta[2*M][0]+=1\n",
    "    cos_theta=(np.diag(np.ones(2*M),1)+np.diag(np.ones(2*M),-1))\n",
    "    cos_theta[0][2*M]+=1\n",
    "    cos_theta[2*M][0]+=1\n",
    "    H2=(EJ*EJ/ECJ)*(1+np.sqrt(EL/ECJ))*(cos_2theta+Id_M)/2  #*(cos_theta@cos_theta)\n",
    "    H3=(EJ*EJ*ECS/ECJ)*(1+3*np.sqrt(EL/ECJ))*(Id_M-cos_2theta)/2 # *(Id_M-(cos_theta@cos_theta))\n",
    "    #H_I=np.zeros(((N+1),(N+1)))\n",
    "    #Total Hamiltonian\n",
    "    H+=H1-H2+H3  #.astype(complex)\n",
    "    return H"
   ]
  },
  {
   "attachments": {},
   "cell_type": "markdown",
   "id": "bfb54bdd",
   "metadata": {},
   "source": [
    "## $\\text{1. Plot for }$ $E_{Cs} = E_{CJ} = E_L = 1$, $n_g = \\frac{1}{2}$, $\\alpha = i \\left(\\frac{E_{CJ}}{E_L}\\right)^{1/4} = i$."
   ]
  },
  {
   "cell_type": "code",
   "execution_count": 7,
   "id": "f20b44d3",
   "metadata": {},
   "outputs": [
    {
     "name": "stdout",
     "output_type": "stream",
     "text": [
      "Step for EJ =  0.0\n",
      "Hamiltonian built, len(H)= 1681\n",
      "1st and 2nd degenerated vals are 1.9999999999998002 2.0000000000000053 3rd and 4th degenerated vals 9.999999999999806 10.000000000000107\n",
      "Eigenvalues calculated\n",
      "Step for EJ =  0.2\n",
      "Hamiltonian built, len(H)= 1681\n",
      "1st and 2nd degenerated vals are 2.037600527742291 2.0376005277423594 3rd and 4th degenerated vals 10.04143945964181 10.041439459641829\n",
      "Eigenvalues calculated\n",
      "Step for EJ =  0.4\n",
      "Hamiltonian built, len(H)= 1681\n",
      "1st and 2nd degenerated vals are 2.121734122282943 2.1217341222831707 3rd and 4th degenerated vals 10.182902653263683 10.182902653263902\n",
      "Eigenvalues calculated\n",
      "Step for EJ =  0.6000000000000001\n",
      "Hamiltonian built, len(H)= 1681\n",
      "1st and 2nd degenerated vals are 2.1689336950403444 2.1689336950404807 3rd and 4th degenerated vals 10.4732242415577 10.47322424155777\n",
      "Eigenvalues calculated\n",
      "Step for EJ =  0.8\n",
      "Hamiltonian built, len(H)= 1681\n",
      "1st and 2nd degenerated vals are 2.0564604016163983 2.0564604016164294 3rd and 4th degenerated vals 10.976975328089363 10.976975328089381\n",
      "Eigenvalues calculated\n",
      "Step for EJ =  1.0\n",
      "Hamiltonian built, len(H)= 1681\n",
      "1st and 2nd degenerated vals are 1.660402065058495 1.6604020650585491 3rd and 4th degenerated vals 11.734996550491823 11.734996550491951\n",
      "Eigenvalues calculated\n"
     ]
    }
   ],
   "source": [
    "#Calculation 1\n",
    "\n",
    "for EJ1 in E_J:\n",
    "    print(\"Step for EJ = \",EJ1)\n",
    "    H_0pi=Hamiltonian_0pi_approx(EJ1,E_Cs,E_Cj,E_L,ng)\n",
    "    print(\"Hamiltonian built, len(H)=\",len(H_0pi)**2)\n",
    "    vals, _ = eigsh(H_0pi, k=12, which='SA')\n",
    "    #vals,_=np.linalg.eigh(H_0pi)\n",
    "    print(\"1st and 2nd degenerated vals are\",vals[0], vals[1],\"3rd and 4th degenerated vals\", vals[2], vals[3])\n",
    "    print(\"Eigenvalues calculated\")\n",
    "    #vals,vects=np.linalg.eigh(H)\n",
    "    Energies.append(vals) #-vals[0]"
   ]
  },
  {
   "cell_type": "code",
   "execution_count": 8,
   "id": "f6fc48c6",
   "metadata": {},
   "outputs": [
    {
     "data": {
      "image/png": "[encoded data removed]",
      "text/plain": [
       "<Figure size 640x480 with 1 Axes>"
      ]
     },
     "metadata": {},
     "output_type": "display_data"
    }
   ],
   "source": [
    "#Plot 1\n",
    "\n",
    "plt.plot(E_J,Energies,c=\"k\")\n",
    "#plt.ylim(0,11)\n",
    "#plt.ylim(1.7,4.2)\n",
    "#plt.xlim(-0.05,0.4)\n",
    "plt.xlabel('$E_J$')\n",
    "plt.ylabel('$Energies$')\n",
    "#plt.savefig('Energies_vs_EJ_M20N20_SEMICLASAPROX.pdf')\n",
    "plt.show()"
   ]
  },
  {
   "attachments": {},
   "cell_type": "markdown",
   "id": "11dacf80",
   "metadata": {},
   "source": [
    "## $\\text{2. Plot for }$ $E_{Cs} = \\frac{1}{20}$, $E_{CJ} = 1$, $E_L = \\frac{1}{16}$, $n_g = \\frac{1}{2}$, $\\alpha = i \\left(\\frac{E_{CJ}}{E_L}\\right)^{1/4} = 2i$."
   ]
  },
  {
   "cell_type": "code",
   "execution_count": 9,
   "id": "f59a4e89",
   "metadata": {},
   "outputs": [
    {
     "name": "stdout",
     "output_type": "stream",
     "text": [
      "Step for EJ =  0.0\n",
      "Hamiltonian built, len(H)= 1681\n",
      "1st and 2nd degenerated vals are 0.3000000000000067 0.300000000000011 3rd and 4th degenerated vals 0.6999999999999911 0.7000000000000052\n",
      "Eigenvalues calculated\n",
      "Step for EJ =  0.05\n",
      "Hamiltonian built, len(H)= 1681\n",
      "1st and 2nd degenerated vals are 0.29853755793909137 0.29853755793909814 3rd and 4th degenerated vals 0.6985524651690809 0.6985524651690838\n",
      "Eigenvalues calculated\n",
      "Step for EJ =  0.1\n",
      "Hamiltonian built, len(H)= 1681\n",
      "1st and 2nd degenerated vals are 0.2940384651975722 0.2940384651975766 3rd and 4th degenerated vals 0.6942769036206176 0.6942769036206212\n",
      "Eigenvalues calculated\n",
      "Step for EJ =  0.15000000000000002\n",
      "Hamiltonian built, len(H)= 1681\n",
      "1st and 2nd degenerated vals are 0.28616822118259205 0.28616822118259677 3rd and 4th degenerated vals 0.6873736259521837 0.687373625952188\n",
      "Eigenvalues calculated\n",
      "Step for EJ =  0.2\n",
      "Hamiltonian built, len(H)= 1681\n",
      "1st and 2nd degenerated vals are 0.2743751218939844 0.27437512189398733 3rd and 4th degenerated vals 0.6781705460613288 0.67817054606133\n",
      "Eigenvalues calculated\n",
      "Step for EJ =  0.25\n",
      "Hamiltonian built, len(H)= 1681\n",
      "1st and 2nd degenerated vals are 0.25790935115628116 0.2579093511562838 3rd and 4th degenerated vals 0.6671036159518011 0.667103615951802\n",
      "Eigenvalues calculated\n",
      "Step for EJ =  0.30000000000000004\n",
      "Hamiltonian built, len(H)= 1681\n",
      "1st and 2nd degenerated vals are 0.2358673284544655 0.23586732845446692 3rd and 4th degenerated vals 0.6546713056528054 0.6546713056528164\n",
      "Eigenvalues calculated\n",
      "Step for EJ =  0.35000000000000003\n",
      "Hamiltonian built, len(H)= 1681\n",
      "1st and 2nd degenerated vals are 0.20726873613107477 0.20726873613108554 3rd and 4th degenerated vals 0.6413552683303358 0.6413552683303501\n",
      "Eigenvalues calculated\n",
      "Step for EJ =  0.4\n",
      "Hamiltonian built, len(H)= 1681\n",
      "1st and 2nd degenerated vals are 0.17115917250483945 0.17115917250484033 3rd and 4th degenerated vals 0.6275138535278879 0.6275138535279037\n",
      "Eigenvalues calculated\n"
     ]
    }
   ],
   "source": [
    "#Calculation 2\n",
    "\n",
    "for EJ2 in E_J_2:\n",
    "    print(\"Step for EJ = \",EJ2)\n",
    "    H_0pi_2=Hamiltonian_0pi_approx(EJ2,E_Cs_2,E_Cj_2,E_L_2,ng)\n",
    "    print(\"Hamiltonian built, len(H)=\",len(H_0pi_2)**2)\n",
    "    vals2, _ = eigsh(H_0pi_2, k=12, which='SA')\n",
    "    #vals2,_=np.linalg.eigh(H_0pi_2)\n",
    "    print(\"1st and 2nd degenerated vals are\",vals2[0], vals2[1],\"3rd and 4th degenerated vals\", vals2[2], vals2[3])\n",
    "    print(\"Eigenvalues calculated\")\n",
    "    #vals2,vects2=np.linalg.eigh(H2)\n",
    "    Energies2.append(vals2)"
   ]
  },
  {
   "cell_type": "code",
   "execution_count": 11,
   "id": "940c6c8e",
   "metadata": {},
   "outputs": [
    {
     "data": {
      "image/png": "[encoded data removed]",
      "text/plain": [
       "<Figure size 640x480 with 1 Axes>"
      ]
     },
     "metadata": {},
     "output_type": "display_data"
    }
   ],
   "source": [
    "#Plot 2\n",
    "\n",
    "plt.plot(E_J_2,Energies2,c=\"k\",ls=\":\")\n",
    "plt.ylim(0.1,1.56)\n",
    "#plt.xlim(-0.02,0.42)\n",
    "plt.xlabel('$E_J$')\n",
    "plt.ylabel('$E (2)$')\n",
    "#plt.savefig('Energies2_vs_EJ_M20N20_SEMICLASAPROX_3.pdf')\n",
    "#plt.savefig('Energies2_vs_EJ_M20N20_SEMICLASAPROX_3.png',dpi=300,bbox_inches='tight')\n",
    "plt.show()"
   ]
  },
  {
   "cell_type": "code",
   "execution_count": null,
   "id": "7878fae5",
   "metadata": {},
   "outputs": [],
   "source": []
  }
 ],
 "metadata": {
  "kernelspec": {
   "display_name": "Python 3 (ipykernel)",
   "language": "python",
   "name": "python3"
  },
  "language_info": {
   "codemirror_mode": {
    "name": "ipython",
    "version": 3
   },
   "file_extension": ".py",
   "mimetype": "text/x-python",
   "name": "python",
   "nbconvert_exporter": "python",
   "pygments_lexer": "ipython3",
   "version": "3.9.13"
  }
 },
 "nbformat": 4,
 "nbformat_minor": 5
}
