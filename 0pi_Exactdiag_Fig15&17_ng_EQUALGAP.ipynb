{
 "cells": [
  {
   "attachments": {},
   "cell_type": "markdown",
   "id": "71a1f84e",
   "metadata": {},
   "source": [
    "# $\\text{Exact diagonalization of the } 0 - \\pi \\text{ qubit Hamiltonian} - E \\text{ } vs \\text{ } n_{g}$"
   ]
  },
  {
   "cell_type": "code",
   "execution_count": 1,
   "id": "1f5c9f2f",
   "metadata": {},
   "outputs": [],
   "source": [
    "import numpy as np\n",
    "from scipy.sparse.linalg import eigsh\n",
    "import scipy.sparse as sparse\n",
    "from scipy.linalg import eigh\n",
    "import scipy.linalg\n",
    "import matplotlib.pyplot as plt\n",
    "from qutip import *\n",
    "import math"
   ]
  },
  {
   "cell_type": "code",
   "execution_count": 2,
   "id": "d6efc705",
   "metadata": {},
   "outputs": [],
   "source": [
    "#plt.rcParams['figure.figsize']=8.5,5.1\n",
    "plt.rcParams['font.size']=20\n",
    "plt.rcParams['lines.linewidth']=1.5\n",
    "plt.rcParams['text.usetex']=True"
   ]
  },
  {
   "cell_type": "code",
   "execution_count": 17,
   "id": "b45a6a3f",
   "metadata": {},
   "outputs": [
    {
     "name": "stdout",
     "output_type": "stream",
     "text": [
      "(0.5%) \\epsilon_n =  0.0025\n",
      "[0.4975 0.5    0.5025]\n"
     ]
    }
   ],
   "source": [
    "#Construction of necessary elements of theta and phi Hilbert spaces\n",
    "\n",
    "# For phi\n",
    "\n",
    "N=50\n",
    "a_phi=np.diag(np.sqrt(np.arange(1, N+1)), 1)\n",
    "ad_phi=np.diag(np.sqrt(np.arange(1, N+1)), -1)\n",
    "N_phi=ad_phi@a_phi\n",
    "Id_N=np.eye(N+1)\n",
    "\n",
    "# For theta\n",
    "\n",
    "M=20\n",
    "Id_M=np.eye(2*M+1)\n",
    "n_theta=np.flipud(np.fliplr(np.diag(np.arange(-M,M+1), 0)))\n",
    "\n",
    "#Qubit parameters 1 \n",
    "\n",
    "phi_ext=np.pi\n",
    "\n",
    "E_Cs=1.0\n",
    "E_Cj=1.0\n",
    "E_L=1.0\n",
    "E_J=1.0\n",
    "alpha=(1j*(E_Cj/E_L)**(1.0/4.0))\n",
    "\n",
    "# Qubit parameters 2\n",
    "\n",
    "E_Cs_2=(1.0/20)\n",
    "E_Cj_2=1.0\n",
    "E_L_2=(1.0/16)\n",
    "E_J_2=(1.0/5.0)\n",
    "alpha2=(1j*(E_Cj_2/E_L_2)**(1.0/4.0))\n",
    "\n",
    "# For calculation 1\n",
    "Energies=[]\n",
    "Energies2=[]\n",
    "\n",
    "#1\n",
    "\n",
    "#ng=np.arange(0.5-0.01*0.5 , 0.5+0.01*0.5 + 0.001 , 0.01*0.5)\n",
    "#ng2=np.arange(0.5-0.01*0.5 , 0.5+0.01*0.5 + 0.001 , 0.01*0.5)\n",
    "#print(r\"(1%) \\epsilon_n = \",0.01*0.5)\n",
    "#epsilon_n=0.01*0.5\n",
    "#print(ng)\n",
    "\n",
    "#2\n",
    "\n",
    "#ng=np.arange(0.5-0.015*0.5 , 0.5+0.015*0.5 + 0.001 , 0.015*0.5)\n",
    "#ng2=np.arange(0.5-0.015*0.5 , 0.5+0.015*0.5 + 0.001 , 0.015*0.5)\n",
    "#print(r\"(1.5%) \\epsilon_n = \",0.015*0.5)\n",
    "#epsilon_n=0.015*0.5\n",
    "#print(ng)\n",
    "\n",
    "#3\n",
    "\n",
    "ng=np.arange(0.5-0.005*0.5 , 0.5+0.005*0.5 + 0.001 , 0.005*0.5)\n",
    "ng2=np.arange(0.5-0.005*0.5 , 0.5+0.005*0.5 + 0.001 , 0.005*0.5)\n",
    "print(r\"(0.5%) \\epsilon_n = \",0.005*0.5)\n",
    "epsilon_n=0.005*0.5\n",
    "print(ng)\n",
    "\n",
    "#4\n",
    "\n",
    "#ng=np.arange(0.5-0.0075*0.5 , 0.5+0.0075*0.5 + 0.001 , 0.0075*0.5)\n",
    "#ng2=np.arange(0.5-0.0075*0.5 , 0.5+0.0075*0.5 + 0.001 , 0.0075*0.5)\n",
    "#print(r\"(0.75%) \\epsilon_n = \",0.0075*0.5)\n",
    "#epsilon_n=0.0075*0.5\n",
    "#print(ng)"
   ]
  },
  {
   "cell_type": "code",
   "execution_count": 7,
   "id": "568910dd",
   "metadata": {},
   "outputs": [],
   "source": [
    "# Construction of the 0-pi Hamiltonian\n",
    "\n",
    "def Hamiltonian_0pi(EJ,ECS,ECJ,EL,n,phi,alph):\n",
    "    #Initial\n",
    "    H=np.zeros(((2*M+1)*(N+1),(2*M+1)*(N+1)))\n",
    "    #Free Hamiltonian construction\n",
    "    H1=4*ECS*((n_theta-n*Id_M)@(n_theta-n*Id_M))\n",
    "    H_theta=np.kron(H1,Id_N)\n",
    "    H2=2*np.sqrt(ECJ*EL)*(N_phi+0.5*Id_N)\n",
    "    H_phi=np.kron(Id_M,H2)\n",
    "    H_0=H_theta+H_phi\n",
    "    #H_0=np.zeros(((2*M+1)*(N+1),(2*M+1)*(N+1)))\n",
    "    #Interaction Hamiltonian construction\n",
    "    cos_theta=np.diag(np.ones(2*M),1)+np.diag(np.ones(2*M),-1) \n",
    "    #cos_theta=np.diag(np.ones(2*M-1),2)+np.diag(np.ones(2*M-1),-2)\n",
    "    cos_theta[0][2*M]+=1\n",
    "    cos_theta[2*M][0]+=1\n",
    "    #cos_phi=(0.5*((displace(N+1,alph)*(math.e**(-1j*phi/2)))+(displace(N+1,-alph)*(math.e**(1j*phi/2)))))*np.diag(np.ones(N+1),0)\n",
    "    cos_phi=0.5*(scipy.linalg.expm(alph*(a_phi+ad_phi)-(Id_N*1j*phi/2))+scipy.linalg.expm(-alph*(a_phi+ad_phi)+(Id_N*1j*phi/2)))\n",
    "    H_I=EJ*np.kron(cos_theta,cos_phi.real)#SIN EL2 \n",
    "    #H_I=np.zeros(((2*M+1)*(N+1),(2*M+1)*(N+1)))\n",
    "    #Total Hamiltonian\n",
    "    H+=H_0-H_I\n",
    "    return H"
   ]
  },
  {
   "attachments": {},
   "cell_type": "markdown",
   "id": "1dba0b35",
   "metadata": {},
   "source": [
    "## $\\text{1. Plot for } E_{Cs} = E_{Cj} = E_L = 1$, $\\varphi_{ext}= \\pi$, $\\alpha = i \\left(\\frac{E_{CJ}}{E_L}\\right)^{1/4} = i$."
   ]
  },
  {
   "cell_type": "code",
   "execution_count": 18,
   "id": "f4ff39ee",
   "metadata": {},
   "outputs": [
    {
     "name": "stdout",
     "output_type": "stream",
     "text": [
      "Step for ng =  0.4975\n",
      "Hamiltonian built, len(H)= 4372281\n",
      "1.7634693699015285 1.7804173567684993\n",
      "Eigenvalues calculated\n",
      "Step for ng =  0.5\n",
      "Hamiltonian built, len(H)= 4372281\n",
      "1.7719316412969037 1.7719316412969999\n",
      "Eigenvalues calculated\n",
      "Step for ng =  0.5025\n",
      "Hamiltonian built, len(H)= 4372281\n",
      "1.763469369901948 1.780417356768732\n",
      "Eigenvalues calculated\n"
     ]
    }
   ],
   "source": [
    "# Calculations 1\n",
    "\n",
    "for n1 in ng:\n",
    "    print(\"Step for ng = \",n1)\n",
    "    H=Hamiltonian_0pi(E_J,E_Cs,E_Cj,E_L,n1,phi_ext,alpha)\n",
    "    print(\"Hamiltonian built, len(H)=\",len(H)**2)\n",
    "    #vals,vects=np.linalg.eigh(H)\n",
    "    vals, _ = eigsh(H, k=2, which='SA')\n",
    "    #vals,_=np.linalg.eigh(H)\n",
    "    print(vals[0],vals[1])\n",
    "    print(\"Eigenvalues calculated\")\n",
    "    Energies.append(vals)"
   ]
  },
  {
   "cell_type": "code",
   "execution_count": 19,
   "id": "b2dddac7",
   "metadata": {},
   "outputs": [
    {
     "data": {
      "image/png": "[encoded data removed]",
      "text/plain": [
       "<Figure size 640x480 with 1 Axes>"
      ]
     },
     "metadata": {},
     "output_type": "display_data"
    }
   ],
   "source": [
    "#Plot 1 \n",
    "#Energiesng = np.array(Energies)\n",
    "#np.save('Energiesng.npy', Energiesng)\n",
    "plt.plot(ng,Energies,c=\"k\")\n",
    "#plt.ylim(1.67,1.87)\n",
    "#plt.xlim(0.4,0.6)\n",
    "plt.plot(0.5-epsilon_n,1.7550311282877298, 'ro')\n",
    "plt.plot(0.5-epsilon_n,1.7889259142999712, 'ro')\n",
    "plt.plot(0.5+epsilon_n,1.7550311282877298, 'ro')\n",
    "plt.plot(0.5+epsilon_n,1.7889259142999712, 'ro')\n",
    "plt.xticks([0.5-epsilon_n,0.500,0.5+epsilon_n],[r\"$0.5-\\epsilon_n$\",r\"$0.5$\",r\"$0.5+\\epsilon_n$\"])\n",
    "plt.yticks([1.7550311282877298,1.7719316405392005,1.7889259142999712],[r\"$1.755$\",r\"$1.772$\",r\"$1.789$\"])\n",
    "plt.xlabel('$n_g$')\n",
    "plt.ylabel('$E (1)$',labelpad=7.0)\n",
    "#plt.savefig('Energies_vs_ng_M50N125_INTNO2.pdf')\n",
    "plt.show()"
   ]
  },
  {
   "attachments": {},
   "cell_type": "markdown",
   "id": "55604da9",
   "metadata": {},
   "source": [
    "## $\\text{2. Plot for } E_{Cs} = \\frac{1}{20}$, $E_{CJ} = 1$, $E_L = \\frac{1}{16}$, $\\varphi_{ext} = \\pi$, $\\alpha = i \\left(\\frac{E_{CJ}}{E_L}\\right)^{1/4} = 2i$."
   ]
  },
  {
   "cell_type": "code",
   "execution_count": 20,
   "id": "5c0758ca",
   "metadata": {},
   "outputs": [
    {
     "name": "stdout",
     "output_type": "stream",
     "text": [
      "Step for ng =  0.4975\n",
      "Hamiltonian built, len(H)= 4372281\n",
      "0.27464858605888687 0.275624054172971\n",
      "GAP between GS and 1st excited state is =  0.0009754681140841104\n",
      "Eigenvalues calculated\n",
      "Step for ng =  0.5\n",
      "Hamiltonian built, len(H)= 4372281\n",
      "0.27513511904323534 0.2751351190432399\n",
      "GAP between GS and 1st excited state is =  4.551914400963142e-15\n",
      "Eigenvalues calculated\n",
      "Step for ng =  0.5025\n",
      "Hamiltonian built, len(H)= 4372281\n",
      "0.274648586058883 0.2756240541729512\n",
      "GAP between GS and 1st excited state is =  0.0009754681140682342\n",
      "Eigenvalues calculated\n"
     ]
    }
   ],
   "source": [
    "# Calculations 2\n",
    "\n",
    "for n2 in ng2:\n",
    "    print(\"Step for ng = \",n2)\n",
    "    H2=Hamiltonian_0pi(E_J_2,E_Cs_2,E_Cj_2,E_L_2,n2,phi_ext,alpha2)\n",
    "    print(\"Hamiltonian built, len(H)=\",len(H2)**2)\n",
    "    #vals2,vects2=np.linalg.eigh(H2)\n",
    "    vals2, _ = eigsh(H2, k=2, which='SA')\n",
    "    #vals2,_=np.linalg.eigh(H2)\n",
    "    print(vals2[0],vals2[1])\n",
    "    print(\"GAP between GS and 1st excited state is = \",vals2[1]-vals2[0])\n",
    "    print(\"Eigenvalues calculated\")\n",
    "    Energies2.append(vals2)"
   ]
  },
  {
   "cell_type": "code",
   "execution_count": 21,
   "id": "ff73616d",
   "metadata": {
    "scrolled": true
   },
   "outputs": [
    {
     "data": {
      "image/png": "[encoded data removed]",
      "text/plain": [
       "<Figure size 640x480 with 1 Axes>"
      ]
     },
     "metadata": {},
     "output_type": "display_data"
    }
   ],
   "source": [
    "#Plot 2 \n",
    "#Energies2ng = np.array(Energies2)\n",
    "#np.save('Energies2ng_equalgap_3.npy', Energies2ng)\n",
    "plt.plot(ng2,Energies2,c=\"k\")\n",
    "plt.plot(0.5-epsilon_n,0.2741644560315928, 'ro')\n",
    "plt.plot(0.5-epsilon_n,0.2761153906221432, 'ro')\n",
    "plt.plot(0.5+epsilon_n,0.2741644560315928, 'ro')\n",
    "plt.plot(0.5+epsilon_n,0.2761153906221432, 'ro')\n",
    "plt.xticks([0.5-epsilon_n,0.500,0.5+epsilon_n],[r\"$0.5-\\epsilon_n$\",r\"$0.5$\",r\"$0.5+\\epsilon_n$\"])\n",
    "plt.yticks([0.2741644560315928,0.2751284142050514,0.2761153906221432],[r\"$0.274$\",r\"$0.275$\",r\"$0.276$\"])\n",
    "#plt.ylim(1.25,2.25)\n",
    "#plt.xlim(0.4,0.6)\n",
    "plt.xlabel('$n_g$')\n",
    "plt.ylabel('$E (2)$', labelpad=7.0)\n",
    "#plt.savefig('Energies2_vs_ng_M50N125_INTNO2.pdf')\n",
    "plt.show()"
   ]
  },
  {
   "cell_type": "code",
   "execution_count": null,
   "id": "a3a9c5e7",
   "metadata": {},
   "outputs": [],
   "source": []
  }
 ],
 "metadata": {
  "kernelspec": {
   "display_name": "Python 3 (ipykernel)",
   "language": "python",
   "name": "python3"
  },
  "language_info": {
   "codemirror_mode": {
    "name": "ipython",
    "version": 3
   },
   "file_extension": ".py",
   "mimetype": "text/x-python",
   "name": "python",
   "nbconvert_exporter": "python",
   "pygments_lexer": "ipython3",
   "version": "3.11.3"
  }
 },
 "nbformat": 4,
 "nbformat_minor": 5
}
